{
 "cells": [
  {
   "cell_type": "markdown",
   "id": "dc5e4f37-a0d6-407f-aacf-118c88e95a8d",
   "metadata": {},
   "source": [
    "# Progetto Big Data - Unipa"
   ]
  },
  {
   "cell_type": "markdown",
   "id": "212a7b3f-176a-4a66-ac0e-17a2c94e2108",
   "metadata": {
    "jp-MarkdownHeadingCollapsed": true,
    "tags": []
   },
   "source": [
    "## Import"
   ]
  },
  {
   "cell_type": "code",
   "execution_count": 4,
   "id": "9b9eb66f-a189-4a5e-998f-48a7fee450f0",
   "metadata": {},
   "outputs": [],
   "source": [
    "import numpy as np\n",
    "import pandas as pd\n",
    "import seaborn as sns\n",
    "from sklearn.pipeline import Pipeline\n",
    "from sklearn.preprocessing import StandardScaler\n",
    "from sklearn.decomposition import PCA\n",
    "from sklearn.manifold import TSNE\n",
    "from sklearn.utils import shuffle\n",
    "from sklearn.ensemble import ExtraTreesClassifier, RandomForestClassifier\n",
    "from sklearn.feature_selection import SelectFromModel\n",
    "from sklearn.model_selection import StratifiedShuffleSplit\n",
    "from sklearn.model_selection import GridSearchCV\n",
    "from sklearn.metrics import precision_recall_curve\n",
    "from sklearn.metrics import plot_precision_recall_curve\n",
    "from sklearn.metrics import average_precision_score\n",
    "from sklearn import metrics\n",
    "import matplotlib.pyplot as plt"
   ]
  },
  {
   "cell_type": "markdown",
   "id": "f6f9af98-9f68-4f93-81dc-1f679d23a7c3",
   "metadata": {
    "jp-MarkdownHeadingCollapsed": true,
    "tags": []
   },
   "source": [
    "## Data Load"
   ]
  },
  {
   "cell_type": "code",
   "execution_count": 5,
   "id": "8262006c-3e52-4a9a-8ffd-83e2b35edb68",
   "metadata": {},
   "outputs": [],
   "source": [
    "df = pd.read_csv(\"../data/creditcard.csv\")\n",
    "\n",
    "y_class = df[\"Class\"]\n",
    "\n",
    "df = df.drop(columns= [\"Class\"])"
   ]
  },
  {
   "cell_type": "markdown",
   "id": "7f096de2-d85b-413c-beed-3d4205299f76",
   "metadata": {
    "jp-MarkdownHeadingCollapsed": true,
    "tags": []
   },
   "source": [
    "## Creazione dei dataset train e test"
   ]
  },
  {
   "cell_type": "markdown",
   "id": "f4660939-bbd7-485b-865c-c8aa610e7fd9",
   "metadata": {},
   "source": [
    "Per prima cosa, assegniamo alla variabile `X` i valori corrispondenti alla matrice delle feature, assegniamo alla variabile `y` il vettore delle classi da predire."
   ]
  },
  {
   "cell_type": "code",
   "execution_count": 6,
   "id": "83f55443-4c0f-4280-9bbf-f72e52adedd6",
   "metadata": {},
   "outputs": [],
   "source": [
    "X = df.values\n",
    "y = y_class.values"
   ]
  },
  {
   "cell_type": "markdown",
   "id": "c363ee55-1648-4f55-9737-e80427a3bf45",
   "metadata": {},
   "source": [
    "Dato che i valori di `y` non sono bilanciati, uno split semplice del dataset creerebbe due sottodataset con frequenze di valori diverse: "
   ]
  },
  {
   "cell_type": "code",
   "execution_count": 7,
   "id": "65697810-9c40-4014-a0a6-5d647d487f69",
   "metadata": {},
   "outputs": [
    {
     "name": "stdout",
     "output_type": "stream",
     "text": [
      "0    0.998\n",
      "1    0.002\n",
      "dtype: float64\n",
      "0    0.998273\n",
      "1    0.001727\n",
      "dtype: float64\n"
     ]
    }
   ],
   "source": [
    "np.random.seed(42)\n",
    "y_rand = np.copy(y)\n",
    "np.random.shuffle(y_rand)\n",
    "\n",
    "y_rand_subset1 = y_rand[:1000]\n",
    "y_rand_subset2 = y_rand[1000:]\n",
    "\n",
    "print(pd.Series(y_rand_subset1).value_counts(normalize=1))\n",
    "print(pd.Series(y_rand_subset2).value_counts(normalize=1))"
   ]
  },
  {
   "cell_type": "markdown",
   "id": "9559af4b-96bd-4a7b-be5d-f41c065a2c6c",
   "metadata": {},
   "source": [
    "Data questa dinamica, utilizziamo lo `StratifiedShuffleSplit` di scikit-learn che permette di ottenere dei subset mantenendo equilibrata la classe obiettivo."
   ]
  },
  {
   "cell_type": "code",
   "execution_count": 8,
   "id": "51b9bed0-8245-4cbe-a926-3d8642c890ad",
   "metadata": {
    "tags": []
   },
   "outputs": [
    {
     "data": {
      "text/plain": [
       "((256326, 30), (28481, 30), (256326,), (28481,))"
      ]
     },
     "execution_count": 8,
     "metadata": {},
     "output_type": "execute_result"
    }
   ],
   "source": [
    "sss0 = StratifiedShuffleSplit(n_splits=1, test_size=.1, random_state=42)\n",
    "train_index, test_index = next(iter(sss0.split(X, y)))\n",
    "X_train, X_test, y_train, y_test = X[train_index], X[test_index], y[train_index], y[test_index]\n",
    "\n",
    "X_train.shape, X_test.shape, y_train.shape, y_test.shape"
   ]
  },
  {
   "cell_type": "code",
   "execution_count": 9,
   "id": "f30ccde8-6ef4-48df-a896-d5e8a3654b6c",
   "metadata": {},
   "outputs": [
    {
     "name": "stdout",
     "output_type": "stream",
     "text": [
      "0    0.99828\n",
      "1    0.00172\n",
      "dtype: float64\n",
      "0    0.998272\n",
      "1    0.001728\n",
      "dtype: float64\n"
     ]
    }
   ],
   "source": [
    "print(pd.Series(y_test).value_counts(normalize=1))\n",
    "print(pd.Series(y_train).value_counts(normalize=1))"
   ]
  },
  {
   "cell_type": "markdown",
   "id": "fdcd5e6e-c618-4200-83d8-548761957901",
   "metadata": {
    "jp-MarkdownHeadingCollapsed": true,
    "tags": []
   },
   "source": [
    "## PreProcessing e creazione pipeline Classificazione"
   ]
  },
  {
   "cell_type": "markdown",
   "id": "4e095e2a-deea-4270-ba60-bf8e99f05ad3",
   "metadata": {},
   "source": [
    "1. Utilizzeremo `StandardScaler` per standardizzare le feature in modo da ottenere valori che abbiano media 0 e varianza 1. \n",
    "2. Utilizzeremo `SelectFromModel` per selezionare le feature maggiormente determinanti per la classificazione.\n",
    "3. Utilizzeremo `RandomForestClassifier` come classificatore per predire il valore di `y`."
   ]
  },
  {
   "cell_type": "markdown",
   "id": "282c995e-1f9e-4115-9380-ff5af4d073cb",
   "metadata": {},
   "source": [
    "`SelectFromModel` utilizza un classificatore e analizza come il classificatore attribuisce peso alle features ai fini della classificazione finale, una volta individuate le feature maggiormente rilevanti modifica la matrice originaria eliminando le colonne corrispondenti."
   ]
  },
  {
   "cell_type": "code",
   "execution_count": 10,
   "id": "e198496e-31ae-4582-a2f6-09586773f46e",
   "metadata": {},
   "outputs": [
    {
     "data": {
      "text/plain": [
       "Pipeline(steps=[('scat_standard_scaling', StandardScaler()),\n",
       "                ('feature_selection',\n",
       "                 SelectFromModel(estimator=ExtraTreesClassifier(class_weight='balanced',\n",
       "                                                                n_estimators=50,\n",
       "                                                                n_jobs=-1,\n",
       "                                                                random_state=42,\n",
       "                                                                verbose=1))),\n",
       "                ('classifier',\n",
       "                 RandomForestClassifier(class_weight='balanced',\n",
       "                                        n_estimators=10, n_jobs=-1,\n",
       "                                        random_state=42, verbose=1))],\n",
       "         verbose=1)"
      ]
     },
     "execution_count": 10,
     "metadata": {},
     "output_type": "execute_result"
    }
   ],
   "source": [
    "classifier = Pipeline([\n",
    "    (\"scat_standard_scaling\", StandardScaler()),\n",
    "    (\"feature_selection\", SelectFromModel(ExtraTreesClassifier(n_estimators=50, n_jobs=-1, random_state=42, class_weight=\"balanced\", verbose=1))),\n",
    "    (\"classifier\", RandomForestClassifier(n_estimators=10, n_jobs=-1, random_state=42, class_weight=\"balanced\", verbose=1))\n",
    "], verbose=1)\n",
    "\n",
    "classifier"
   ]
  },
  {
   "cell_type": "markdown",
   "id": "b3cc71b8-435d-44ae-8603-5d6d42c44d98",
   "metadata": {
    "tags": []
   },
   "source": [
    "## Esecuzione Test"
   ]
  },
  {
   "cell_type": "markdown",
   "id": "898901cc-d705-4147-95ea-8044c30b3425",
   "metadata": {},
   "source": [
    "Eseguiremo il fit della pipeline con dei parametri arbitrari per osservare il comportamento dei vari componenti. "
   ]
  },
  {
   "cell_type": "code",
   "execution_count": 11,
   "id": "4345a52a-bfe8-4fe8-9092-9c5aff9d29c1",
   "metadata": {},
   "outputs": [
    {
     "name": "stdout",
     "output_type": "stream",
     "text": [
      "[Pipeline]  (step 1 of 3) Processing scat_standard_scaling, total=   0.2s\n"
     ]
    },
    {
     "name": "stderr",
     "output_type": "stream",
     "text": [
      "[Parallel(n_jobs=-1)]: Using backend ThreadingBackend with 8 concurrent workers.\n",
      "[Parallel(n_jobs=-1)]: Done  34 tasks      | elapsed:    3.5s\n",
      "[Parallel(n_jobs=-1)]: Done  50 out of  50 | elapsed:    4.7s finished\n",
      "[Parallel(n_jobs=-1)]: Using backend ThreadingBackend with 8 concurrent workers.\n"
     ]
    },
    {
     "name": "stdout",
     "output_type": "stream",
     "text": [
      "[Pipeline] . (step 2 of 3) Processing feature_selection, total=   4.8s\n"
     ]
    },
    {
     "name": "stderr",
     "output_type": "stream",
     "text": [
      "[Parallel(n_jobs=-1)]: Done   6 out of  10 | elapsed:    1.3s remaining:    0.9s\n"
     ]
    },
    {
     "name": "stdout",
     "output_type": "stream",
     "text": [
      "[Pipeline] ........ (step 3 of 3) Processing classifier, total=   2.0s\n"
     ]
    },
    {
     "name": "stderr",
     "output_type": "stream",
     "text": [
      "[Parallel(n_jobs=-1)]: Done  10 out of  10 | elapsed:    1.9s finished\n"
     ]
    },
    {
     "data": {
      "text/plain": [
       "Pipeline(steps=[('scat_standard_scaling', StandardScaler()),\n",
       "                ('feature_selection',\n",
       "                 SelectFromModel(estimator=ExtraTreesClassifier(class_weight='balanced',\n",
       "                                                                n_estimators=50,\n",
       "                                                                n_jobs=-1,\n",
       "                                                                random_state=42,\n",
       "                                                                verbose=1))),\n",
       "                ('classifier',\n",
       "                 RandomForestClassifier(class_weight='balanced',\n",
       "                                        n_estimators=10, n_jobs=-1,\n",
       "                                        random_state=42, verbose=1))],\n",
       "         verbose=1)"
      ]
     },
     "execution_count": 11,
     "metadata": {},
     "output_type": "execute_result"
    }
   ],
   "source": [
    "classifier.fit(X_train, y_train)"
   ]
  },
  {
   "cell_type": "markdown",
   "id": "73672ed0-71cb-49f0-ab31-7393bcfae1ca",
   "metadata": {},
   "source": [
    "A seguito del training, è possibile osservare come i differenti step di preprocessing abbiano eseguito lo scaling e la selezione delle features."
   ]
  },
  {
   "cell_type": "markdown",
   "id": "10679e71-5cf8-452c-846c-9570845af944",
   "metadata": {},
   "source": [
    "Scaler:"
   ]
  },
  {
   "cell_type": "code",
   "execution_count": 12,
   "id": "0d47f86b-de6f-439f-a376-1ce07a83133f",
   "metadata": {},
   "outputs": [
    {
     "name": "stdout",
     "output_type": "stream",
     "text": [
      "StandardScaler()\n",
      "[ True  True  True  True  True  True  True  True  True  True  True  True\n",
      "  True  True  True  True  True  True  True  True  True  True  True  True\n",
      "  True  True  True  True  True  True]\n",
      "[ True  True  True  True  True  True  True  True  True  True  True  True\n",
      "  True  True  True  True  True  True  True  True  True  True  True  True\n",
      "  True  True  True  True  True  True]\n",
      "[-0.  0.  0.  0.  0.  0. -0.  0. -0.  0.  0.  0. -0. -0. -0.  0.  0.  0.\n",
      " -0. -0. -0.  0. -0. -0. -0.  0.  0. -0.  0.  0.]\n",
      "[1. 1. 1. 1. 1. 1. 1. 1. 1. 1. 1. 1. 1. 1. 1. 1. 1. 1. 1. 1. 1. 1. 1. 1.\n",
      " 1. 1. 1. 1. 1. 1.]\n"
     ]
    }
   ],
   "source": [
    "scaler = classifier.steps[0][1]\n",
    "\n",
    "print(scaler)\n",
    "print(np.mean(X_train, axis=0) == scaler.mean_)\n",
    "print(np.var(X_train, axis=0) == scaler.var_)\n",
    "\n",
    "X_train_scaled = scaler.transform(X_train)\n",
    "print(np.round(np.mean(X_train_scaled, axis=0), 4))\n",
    "print(np.var(X_train_scaled, axis=0))"
   ]
  },
  {
   "cell_type": "markdown",
   "id": "b762c6e3-4a72-4f09-a314-54af57891f6c",
   "metadata": {},
   "source": [
    "Feature Selector:"
   ]
  },
  {
   "cell_type": "code",
   "execution_count": 13,
   "id": "a199f6b2-e5f1-4812-9aa6-adbe025bd793",
   "metadata": {},
   "outputs": [
    {
     "name": "stdout",
     "output_type": "stream",
     "text": [
      "SelectFromModel(estimator=ExtraTreesClassifier(class_weight='balanced',\n",
      "                                               n_estimators=50, n_jobs=-1,\n",
      "                                               random_state=42, verbose=1))\n",
      "Features selezionate da SelectFromModel: Index(['V3', 'V4', 'V10', 'V11', 'V12', 'V14', 'V16', 'V17', 'V18'], dtype='object')\n"
     ]
    }
   ],
   "source": [
    "selector = classifier.steps[1][1]\n",
    "\n",
    "print(selector)\n",
    "\n",
    "feature_names = df.columns\n",
    "selected_feature_names = feature_names[selector.get_support()]\n",
    "\n",
    "print(\"Features selezionate da SelectFromModel: \"\n",
    "      f\"{selected_feature_names}\")"
   ]
  },
  {
   "cell_type": "code",
   "execution_count": 14,
   "id": "0718d58a-97a6-4dd2-8a09-507503dc8504",
   "metadata": {},
   "outputs": [
    {
     "data": {
      "image/png": "[encoded data removed]",
      "text/plain": [
       "<Figure size 1296x576 with 1 Axes>"
      ]
     },
     "metadata": {
      "needs_background": "light"
     },
     "output_type": "display_data"
    }
   ],
   "source": [
    "tree = selector.estimator_\n",
    "\n",
    "feature_importances = tree.feature_importances_\n",
    "\n",
    "fig, ax = plt.subplots(1, 1, figsize =(18,8))\n",
    "\n",
    "g = sns.barplot(x = feature_names.values, y = feature_importances, ax = ax)\n"
   ]
  },
  {
   "cell_type": "markdown",
   "id": "39b3501c-0e28-41af-a327-8e15add8ef38",
   "metadata": {},
   "source": [
    "Example Predictions:"
   ]
  },
  {
   "cell_type": "code",
   "execution_count": 15,
   "id": "e08b151d-5641-47b9-878f-1a7b366e1721",
   "metadata": {
    "tags": []
   },
   "outputs": [
    {
     "name": "stderr",
     "output_type": "stream",
     "text": [
      "[Parallel(n_jobs=8)]: Using backend ThreadingBackend with 8 concurrent workers.\n",
      "[Parallel(n_jobs=8)]: Done   6 out of  10 | elapsed:    0.0s remaining:    0.0s\n",
      "[Parallel(n_jobs=8)]: Done  10 out of  10 | elapsed:    0.1s finished\n"
     ]
    },
    {
     "data": {
      "text/plain": [
       "(256326,)"
      ]
     },
     "execution_count": 15,
     "metadata": {},
     "output_type": "execute_result"
    }
   ],
   "source": [
    "Y = classifier.predict(X_train)\n",
    "Y.shape"
   ]
  },
  {
   "cell_type": "markdown",
   "id": "89f7100a-9576-4c6c-af8d-ae3cfd766962",
   "metadata": {
    "tags": []
   },
   "source": [
    "## Valutazione del Modello"
   ]
  },
  {
   "cell_type": "markdown",
   "id": "15775bd9-7794-4493-bc44-d1d2a1ac4339",
   "metadata": {
    "tags": []
   },
   "source": [
    "Costruzione score:"
   ]
  },
  {
   "cell_type": "code",
   "execution_count": 16,
   "id": "401fd950-c624-47a8-a0ce-5d8586b5189e",
   "metadata": {},
   "outputs": [
    {
     "data": {
      "text/plain": [
       "0.027659924244157086"
      ]
     },
     "execution_count": 16,
     "metadata": {},
     "output_type": "execute_result"
    }
   ],
   "source": [
    "def score_auc(Y, y_train):\n",
    "    # Calcoliamo i valori di p, i valori recall (r) ed il threshold della curva precision recall\n",
    "    # attraverso l'apposita funzione di scikit-learn\n",
    "    p, r, tresholds = metrics.precision_recall_curve(\n",
    "        Y,\n",
    "        y_train,\n",
    "    )\n",
    "    # Utilizziamo i valori per calcolare l'area under the curve (AUC)\n",
    "    metric = metrics.auc(p, r)\n",
    "    return 1 - metric\n",
    "\n",
    "score_auc(Y, y_train)"
   ]
  },
  {
   "cell_type": "code",
   "execution_count": 17,
   "id": "4c1476ca-dd70-42ba-9745-25b26adc4be0",
   "metadata": {},
   "outputs": [
    {
     "name": "stderr",
     "output_type": "stream",
     "text": [
      "[Parallel(n_jobs=8)]: Using backend ThreadingBackend with 8 concurrent workers.\n",
      "[Parallel(n_jobs=8)]: Done   6 out of  10 | elapsed:    0.0s remaining:    0.0s\n",
      "[Parallel(n_jobs=8)]: Done  10 out of  10 | elapsed:    0.0s finished\n"
     ]
    },
    {
     "data": {
      "image/png": "[encoded data removed]",
      "text/plain": [
       "<Figure size 432x288 with 1 Axes>"
      ]
     },
     "metadata": {
      "needs_background": "light"
     },
     "output_type": "display_data"
    }
   ],
   "source": [
    "disp = plot_precision_recall_curve(classifier , X_train, y_train)"
   ]
  },
  {
   "cell_type": "markdown",
   "id": "825edb47-d3c2-4978-9342-5724a6e61456",
   "metadata": {},
   "source": [
    "Per un ulteriore livello di dettaglio, si riportano i valori di precision e recall f1_score per il modello di classificazione"
   ]
  },
  {
   "cell_type": "code",
   "execution_count": 35,
   "id": "fd65848d-70a3-4391-8a4d-22eac23f2518",
   "metadata": {},
   "outputs": [
    {
     "name": "stdout",
     "output_type": "stream",
     "text": [
      "              precision    recall  f1-score   support\n",
      "\n",
      "           0       1.00      1.00      1.00    255883\n",
      "           1       1.00      0.95      0.97       443\n",
      "\n",
      "    accuracy                           1.00    256326\n",
      "   macro avg       1.00      0.98      0.99    256326\n",
      "weighted avg       1.00      1.00      1.00    256326\n",
      "\n"
     ]
    }
   ],
   "source": [
    "print(metrics.classification_report(y_true=y_train, y_pred=Y))"
   ]
  },
  {
   "cell_type": "markdown",
   "id": "3ae57363-71cd-4c67-9c23-34db2b1140e1",
   "metadata": {},
   "source": [
    "Dato il forte sbilanciamento delle classi è necessario ponderare le stesse al fine di ottenere un f1_score che tenga questo effetto in conto"
   ]
  },
  {
   "cell_type": "code",
   "execution_count": 36,
   "id": "fb05f3b8-c828-43b9-8fcb-a91b43f98bde",
   "metadata": {},
   "outputs": [
    {
     "name": "stdout",
     "output_type": "stream",
     "text": [
      "              precision    recall  f1-score   support\n",
      "\n",
      "           0       0.95      1.00      0.98 442.23437731820246\n",
      "           1       1.00      0.95      0.97 442.234377316383\n",
      "\n",
      "    accuracy                           0.98 884.4687546345855\n",
      "   macro avg       0.98      0.98      0.98 884.4687546345855\n",
      "weighted avg       0.98      0.98      0.98 884.4687546345855\n",
      "\n"
     ]
    }
   ],
   "source": [
    "sample_weight = pd.Series(y_train).value_counts(normalize=True).apply(lambda x:1-x).reindex(y_train)\n",
    "\n",
    "print(metrics.classification_report(y_true=y_train, y_pred=Y, sample_weight=sample_weight))"
   ]
  },
  {
   "cell_type": "markdown",
   "id": "44036fcf",
   "metadata": {
    "tags": []
   },
   "source": [
    "## Ottimizzazione dei parametri della pipeline"
   ]
  },
  {
   "cell_type": "markdown",
   "id": "08c8ceff-cfd3-4660-a437-fe25d01f87f0",
   "metadata": {},
   "source": [
    "In questa prima esecuzione i parametri del classificatore utilizzati nella pipeline sono stati forniti in maniera arbitraria. Al fine di recuperare la migliore configurazione possibile per il classificatore, è possibile utilizzare una modalità di auto-ML attraverso una ricerca iterativa incrociata dei parametri ottimali per il modello.\n",
    "\n",
    "Come obiettivo dell'ottimizzatore è stata fornita una funzione che cerca di massimizzare l'AUC (Nel nostro caso, la funzione `score_auc` restituisce il valore `1-auc`, da minimizzare)."
   ]
  },
  {
   "cell_type": "code",
   "execution_count": 37,
   "id": "b6db8318",
   "metadata": {},
   "outputs": [],
   "source": [
    "model_scorer = metrics.make_scorer(score_func=score_auc)\n",
    "# Cross-validation score"
   ]
  },
  {
   "cell_type": "code",
   "execution_count": 38,
   "id": "0d725a48",
   "metadata": {},
   "outputs": [
    {
     "name": "stdout",
     "output_type": "stream",
     "text": [
      "Fitting 5 folds for each of 3 candidates, totalling 15 fits\n",
      "[Pipeline]  (step 1 of 3) Processing scat_standard_scaling, total=   0.2s\n"
     ]
    },
    {
     "name": "stderr",
     "output_type": "stream",
     "text": [
      "[Parallel(n_jobs=-1)]: Using backend ThreadingBackend with 8 concurrent workers.\n",
      "[Parallel(n_jobs=-1)]: Done  34 tasks      | elapsed:    4.3s\n",
      "[Parallel(n_jobs=-1)]: Done  50 out of  50 | elapsed:    6.1s finished\n",
      "[Parallel(n_jobs=-1)]: Using backend ThreadingBackend with 8 concurrent workers.\n"
     ]
    },
    {
     "name": "stdout",
     "output_type": "stream",
     "text": [
      "[Pipeline] . (step 2 of 3) Processing feature_selection, total=   6.3s\n",
      "[Pipeline] ........ (step 3 of 3) Processing classifier, total=   1.4s\n",
      "0.15284856932711466\n",
      "{'classifier__n_estimators': 5}\n"
     ]
    },
    {
     "name": "stderr",
     "output_type": "stream",
     "text": [
      "[Parallel(n_jobs=-1)]: Done   2 out of   5 | elapsed:    1.2s remaining:    1.8s\n",
      "[Parallel(n_jobs=-1)]: Done   5 out of   5 | elapsed:    1.3s finished\n"
     ]
    }
   ],
   "source": [
    "param_grid = {\n",
    "    \"classifier__n_estimators\": [5, 10, 20],\n",
    "}\n",
    "search = GridSearchCV(classifier, param_grid=param_grid, n_jobs=-1, verbose=1, scoring=model_scorer)\n",
    "search.fit(X_train, y_train)\n",
    "\n",
    "print(search.best_score_)\n",
    "print(search.best_params_)"
   ]
  },
  {
   "cell_type": "markdown",
   "id": "f1abd3b1-613b-4a35-a47d-50e312653445",
   "metadata": {},
   "source": [
    "## Test del classificatore"
   ]
  },
  {
   "cell_type": "code",
   "execution_count": 40,
   "id": "6b9fcd66-5d28-4812-a150-d71442cf0049",
   "metadata": {},
   "outputs": [
    {
     "name": "stderr",
     "output_type": "stream",
     "text": [
      "[Parallel(n_jobs=8)]: Using backend ThreadingBackend with 8 concurrent workers.\n",
      "[Parallel(n_jobs=8)]: Done   6 out of  10 | elapsed:    0.0s remaining:    0.0s\n",
      "[Parallel(n_jobs=8)]: Done  10 out of  10 | elapsed:    0.0s finished\n"
     ]
    }
   ],
   "source": [
    "Y_test = classifier.predict(X_test)\n"
   ]
  },
  {
   "cell_type": "code",
   "execution_count": 41,
   "id": "66e4c659-2d4e-4c17-9f64-7594bb5a1aa4",
   "metadata": {},
   "outputs": [
    {
     "data": {
      "text/plain": [
       "0.168558272647214"
      ]
     },
     "execution_count": 41,
     "metadata": {},
     "output_type": "execute_result"
    }
   ],
   "source": [
    "score_auc(Y_test, y_test)"
   ]
  },
  {
   "cell_type": "code",
   "execution_count": 42,
   "id": "cfffc431-614c-465a-b1d1-6d0a9a52424c",
   "metadata": {},
   "outputs": [
    {
     "name": "stderr",
     "output_type": "stream",
     "text": [
      "[Parallel(n_jobs=8)]: Using backend ThreadingBackend with 8 concurrent workers.\n",
      "[Parallel(n_jobs=8)]: Done   6 out of  10 | elapsed:    0.0s remaining:    0.0s\n",
      "[Parallel(n_jobs=8)]: Done  10 out of  10 | elapsed:    0.0s finished\n"
     ]
    },
    {
     "data": {
      "image/png": "[encoded data removed]",
      "text/plain": [
       "<Figure size 432x288 with 1 Axes>"
      ]
     },
     "metadata": {
      "needs_background": "light"
     },
     "output_type": "display_data"
    }
   ],
   "source": [
    "disp_test = plot_precision_recall_curve(classifier , X_test, y_test)"
   ]
  },
  {
   "cell_type": "markdown",
   "id": "ccfd8fa6-6657-47bf-acd8-7aa1039d3f9e",
   "metadata": {},
   "source": [
    "Per un ulteriore livello di dettaglio, si riportano i valori di precision e recall f1_score per il modello di classificazione"
   ]
  },
  {
   "cell_type": "markdown",
   "id": "e84cabbd-e194-40c5-99b8-e0063d2252f5",
   "metadata": {},
   "source": [
    "Dato il forte sbilanciamento delle classi è necessario ponderare le stesse al fine di ottenere un f1_score che tenga questo effetto in conto"
   ]
  },
  {
   "cell_type": "code",
   "execution_count": 44,
   "id": "c806fe96-b804-4dee-acf5-ed1b033dfd62",
   "metadata": {},
   "outputs": [
    {
     "name": "stdout",
     "output_type": "stream",
     "text": [
      "              precision    recall  f1-score   support\n",
      "\n",
      "           0       0.77      1.00      0.87 48.915698184776204\n",
      "           1       1.00      0.69      0.82 48.91569818475472\n",
      "\n",
      "    accuracy                           0.85 97.83139636953092\n",
      "   macro avg       0.88      0.85      0.84 97.83139636953092\n",
      "weighted avg       0.88      0.85      0.84 97.83139636953092\n",
      "\n"
     ]
    },
    {
     "name": "stderr",
     "output_type": "stream",
     "text": [
      "[Parallel(n_jobs=-1)]: Using backend ThreadingBackend with 8 concurrent workers.\n",
      "[Parallel(n_jobs=-1)]: Done  34 tasks      | elapsed:   30.1s\n",
      "[Parallel(n_jobs=-1)]: Done  50 out of  50 | elapsed:   38.8s finished\n",
      "[Parallel(n_jobs=-1)]: Using backend ThreadingBackend with 8 concurrent workers.\n",
      "[Parallel(n_jobs=-1)]: Done   6 out of  10 | elapsed:    4.9s remaining:    3.3s\n",
      "[Parallel(n_jobs=-1)]: Done  10 out of  10 | elapsed:    9.0s finished\n",
      "[Parallel(n_jobs=8)]: Using backend ThreadingBackend with 8 concurrent workers.\n",
      "[Parallel(n_jobs=8)]: Done   6 out of  10 | elapsed:    0.0s remaining:    0.0s\n",
      "[Parallel(n_jobs=8)]: Done  10 out of  10 | elapsed:    0.0s finished\n"
     ]
    },
    {
     "name": "stdout",
     "output_type": "stream",
     "text": [
      "[Pipeline]  (step 1 of 3) Processing scat_standard_scaling, total=   1.3s\n",
      "[Pipeline] . (step 2 of 3) Processing feature_selection, total=  39.3s\n",
      "[Pipeline] ........ (step 3 of 3) Processing classifier, total=   9.4s\n",
      "[Pipeline]  (step 1 of 3) Processing scat_standard_scaling, total=   1.5s\n",
      "[Pipeline] . (step 2 of 3) Processing feature_selection, total=  38.1s\n",
      "[Pipeline] ........ (step 3 of 3) Processing classifier, total=   4.9s\n",
      "[Pipeline]  (step 1 of 3) Processing scat_standard_scaling, total=   0.7s\n",
      "[Pipeline] . (step 2 of 3) Processing feature_selection, total=  32.5s\n",
      "[Pipeline] ........ (step 3 of 3) Processing classifier, total=  12.4s\n"
     ]
    },
    {
     "name": "stderr",
     "output_type": "stream",
     "text": [
      "[Parallel(n_jobs=-1)]: Using backend ThreadingBackend with 8 concurrent workers.\n",
      "[Parallel(n_jobs=-1)]: Done  34 tasks      | elapsed:   27.2s\n",
      "[Parallel(n_jobs=-1)]: Done  50 out of  50 | elapsed:   37.2s finished\n",
      "[Parallel(n_jobs=-1)]: Using backend ThreadingBackend with 8 concurrent workers.\n",
      "[Parallel(n_jobs=-1)]: Done   2 out of   5 | elapsed:    3.8s remaining:    5.7s\n",
      "[Parallel(n_jobs=-1)]: Done   5 out of   5 | elapsed:    4.7s finished\n",
      "[Parallel(n_jobs=5)]: Using backend ThreadingBackend with 5 concurrent workers.\n",
      "[Parallel(n_jobs=5)]: Done   2 out of   5 | elapsed:    0.0s remaining:    0.0s\n",
      "[Parallel(n_jobs=5)]: Done   5 out of   5 | elapsed:    0.0s finished\n",
      "[Parallel(n_jobs=-1)]: Using backend ThreadingBackend with 8 concurrent workers.\n",
      "[Parallel(n_jobs=-1)]: Done  34 tasks      | elapsed:   20.6s\n",
      "[Parallel(n_jobs=-1)]: Done  50 out of  50 | elapsed:   32.1s finished\n",
      "[Parallel(n_jobs=-1)]: Using backend ThreadingBackend with 8 concurrent workers.\n",
      "[Parallel(n_jobs=-1)]: Done   6 out of  10 | elapsed:    5.9s remaining:    3.9s\n",
      "[Parallel(n_jobs=-1)]: Done  10 out of  10 | elapsed:   11.9s finished\n",
      "[Parallel(n_jobs=8)]: Using backend ThreadingBackend with 8 concurrent workers.\n",
      "[Parallel(n_jobs=8)]: Done   6 out of  10 | elapsed:    0.0s remaining:    0.0s\n",
      "[Parallel(n_jobs=8)]: Done  10 out of  10 | elapsed:    0.0s finished\n"
     ]
    },
    {
     "name": "stdout",
     "output_type": "stream",
     "text": [
      "[Pipeline]  (step 1 of 3) Processing scat_standard_scaling, total=   1.3s\n",
      "[Pipeline] . (step 2 of 3) Processing feature_selection, total=  38.7s\n",
      "[Pipeline] ........ (step 3 of 3) Processing classifier, total=   5.3s\n",
      "[Pipeline]  (step 1 of 3) Processing scat_standard_scaling, total=   0.6s\n",
      "[Pipeline] . (step 2 of 3) Processing feature_selection, total=  34.6s\n",
      "[Pipeline] ........ (step 3 of 3) Processing classifier, total=  13.8s\n"
     ]
    },
    {
     "name": "stderr",
     "output_type": "stream",
     "text": [
      "[Parallel(n_jobs=-1)]: Using backend ThreadingBackend with 8 concurrent workers.\n",
      "[Parallel(n_jobs=-1)]: Done  34 tasks      | elapsed:   28.4s\n",
      "[Parallel(n_jobs=-1)]: Done  50 out of  50 | elapsed:   38.1s finished\n",
      "[Parallel(n_jobs=-1)]: Using backend ThreadingBackend with 8 concurrent workers.\n",
      "[Parallel(n_jobs=-1)]: Done   2 out of   5 | elapsed:    4.4s remaining:    6.6s\n",
      "[Parallel(n_jobs=-1)]: Done   5 out of   5 | elapsed:    5.1s finished\n",
      "[Parallel(n_jobs=5)]: Using backend ThreadingBackend with 5 concurrent workers.\n",
      "[Parallel(n_jobs=5)]: Done   2 out of   5 | elapsed:    0.0s remaining:    0.0s\n",
      "[Parallel(n_jobs=5)]: Done   5 out of   5 | elapsed:    0.0s finished\n",
      "[Parallel(n_jobs=-1)]: Using backend ThreadingBackend with 8 concurrent workers.\n",
      "[Parallel(n_jobs=-1)]: Done  34 tasks      | elapsed:   23.9s\n",
      "[Parallel(n_jobs=-1)]: Done  50 out of  50 | elapsed:   34.1s finished\n",
      "[Parallel(n_jobs=-1)]: Using backend ThreadingBackend with 8 concurrent workers.\n",
      "[Parallel(n_jobs=-1)]: Done   6 out of  10 | elapsed:    7.5s remaining:    5.0s\n",
      "[Parallel(n_jobs=-1)]: Done  10 out of  10 | elapsed:   13.3s finished\n",
      "[Parallel(n_jobs=8)]: Using backend ThreadingBackend with 8 concurrent workers.\n",
      "[Parallel(n_jobs=8)]: Done   6 out of  10 | elapsed:    0.0s remaining:    0.0s\n",
      "[Parallel(n_jobs=8)]: Done  10 out of  10 | elapsed:    0.0s finished\n"
     ]
    },
    {
     "name": "stdout",
     "output_type": "stream",
     "text": [
      "[Pipeline]  (step 1 of 3) Processing scat_standard_scaling, total=   0.5s\n",
      "[Pipeline] . (step 2 of 3) Processing feature_selection, total=  38.1s\n",
      "[Pipeline] ........ (step 3 of 3) Processing classifier, total=   7.5s\n",
      "[Pipeline]  (step 1 of 3) Processing scat_standard_scaling, total=   1.0s\n",
      "[Pipeline] . (step 2 of 3) Processing feature_selection, total=  33.2s\n",
      "[Pipeline] ........ (step 3 of 3) Processing classifier, total=  16.9s\n"
     ]
    },
    {
     "name": "stderr",
     "output_type": "stream",
     "text": [
      "[Parallel(n_jobs=-1)]: Using backend ThreadingBackend with 8 concurrent workers.\n",
      "[Parallel(n_jobs=-1)]: Done  34 tasks      | elapsed:   25.2s\n",
      "[Parallel(n_jobs=-1)]: Done  50 out of  50 | elapsed:   37.5s finished\n",
      "[Parallel(n_jobs=-1)]: Using backend ThreadingBackend with 8 concurrent workers.\n",
      "[Parallel(n_jobs=-1)]: Done   6 out of  10 | elapsed:    3.8s remaining:    2.5s\n",
      "[Parallel(n_jobs=-1)]: Done  10 out of  10 | elapsed:    7.1s finished\n",
      "[Parallel(n_jobs=8)]: Using backend ThreadingBackend with 8 concurrent workers.\n",
      "[Parallel(n_jobs=8)]: Done   6 out of  10 | elapsed:    0.0s remaining:    0.0s\n",
      "[Parallel(n_jobs=8)]: Done  10 out of  10 | elapsed:    0.0s finished\n",
      "[Parallel(n_jobs=-1)]: Using backend ThreadingBackend with 8 concurrent workers.\n",
      "[Parallel(n_jobs=-1)]: Done  34 tasks      | elapsed:   22.9s\n",
      "[Parallel(n_jobs=-1)]: Done  50 out of  50 | elapsed:   32.4s finished\n",
      "[Parallel(n_jobs=-1)]: Using backend ThreadingBackend with 8 concurrent workers.\n",
      "[Parallel(n_jobs=-1)]: Done  20 out of  20 | elapsed:   16.7s finished\n",
      "[Parallel(n_jobs=8)]: Using backend ThreadingBackend with 8 concurrent workers.\n",
      "[Parallel(n_jobs=8)]: Done  20 out of  20 | elapsed:    0.0s finished\n"
     ]
    },
    {
     "name": "stdout",
     "output_type": "stream",
     "text": [
      "[Pipeline]  (step 1 of 3) Processing scat_standard_scaling, total=   1.4s\n",
      "[Pipeline] . (step 2 of 3) Processing feature_selection, total=  39.5s\n",
      "[Pipeline] ........ (step 3 of 3) Processing classifier, total=   5.3s\n",
      "[Pipeline]  (step 1 of 3) Processing scat_standard_scaling, total=   1.1s\n",
      "[Pipeline] . (step 2 of 3) Processing feature_selection, total=  34.0s\n",
      "[Pipeline] ........ (step 3 of 3) Processing classifier, total=  16.6s\n",
      "[Pipeline]  (step 1 of 3) Processing scat_standard_scaling, total=   1.5s\n",
      "[Pipeline] . (step 2 of 3) Processing feature_selection, total=  39.0s\n",
      "[Pipeline] ........ (step 3 of 3) Processing classifier, total=   5.1s\n",
      "[Pipeline]  (step 1 of 3) Processing scat_standard_scaling, total=   0.6s\n",
      "[Pipeline] . (step 2 of 3) Processing feature_selection, total=  34.3s\n",
      "[Pipeline] ........ (step 3 of 3) Processing classifier, total=  17.5s\n",
      "[Pipeline]  (step 1 of 3) Processing scat_standard_scaling, total=   0.4s\n",
      "[Pipeline] . (step 2 of 3) Processing feature_selection, total=  40.3s\n",
      "[Pipeline] ........ (step 3 of 3) Processing classifier, total=   5.5s\n",
      "[Pipeline]  (step 1 of 3) Processing scat_standard_scaling, total=   1.2s\n",
      "[Pipeline] . (step 2 of 3) Processing feature_selection, total=  33.8s\n",
      "[Pipeline] ........ (step 3 of 3) Processing classifier, total=  16.7s\n"
     ]
    },
    {
     "name": "stderr",
     "output_type": "stream",
     "text": [
      "[Parallel(n_jobs=-1)]: Using backend ThreadingBackend with 8 concurrent workers.\n",
      "[Parallel(n_jobs=-1)]: Done  34 tasks      | elapsed:   29.6s\n",
      "[Parallel(n_jobs=-1)]: Done  50 out of  50 | elapsed:   38.8s finished\n",
      "[Parallel(n_jobs=-1)]: Using backend ThreadingBackend with 8 concurrent workers.\n",
      "[Parallel(n_jobs=-1)]: Done   2 out of   5 | elapsed:    4.6s remaining:    6.9s\n",
      "[Parallel(n_jobs=-1)]: Done   5 out of   5 | elapsed:    4.8s finished\n",
      "[Parallel(n_jobs=5)]: Using backend ThreadingBackend with 5 concurrent workers.\n",
      "[Parallel(n_jobs=5)]: Done   2 out of   5 | elapsed:    0.0s remaining:    0.0s\n",
      "[Parallel(n_jobs=5)]: Done   5 out of   5 | elapsed:    0.0s finished\n",
      "[Parallel(n_jobs=-1)]: Using backend ThreadingBackend with 8 concurrent workers.\n",
      "[Parallel(n_jobs=-1)]: Done  34 tasks      | elapsed:   24.8s\n",
      "[Parallel(n_jobs=-1)]: Done  50 out of  50 | elapsed:   33.1s finished\n",
      "[Parallel(n_jobs=-1)]: Using backend ThreadingBackend with 8 concurrent workers.\n",
      "[Parallel(n_jobs=-1)]: Done  20 out of  20 | elapsed:   16.0s finished\n",
      "[Parallel(n_jobs=8)]: Using backend ThreadingBackend with 8 concurrent workers.\n",
      "[Parallel(n_jobs=8)]: Done  20 out of  20 | elapsed:    0.0s finished\n",
      "[Parallel(n_jobs=-1)]: Using backend ThreadingBackend with 8 concurrent workers.\n",
      "[Parallel(n_jobs=-1)]: Done  34 tasks      | elapsed:   29.3s\n",
      "[Parallel(n_jobs=-1)]: Done  50 out of  50 | elapsed:   38.2s finished\n",
      "[Parallel(n_jobs=-1)]: Using backend ThreadingBackend with 8 concurrent workers.\n",
      "[Parallel(n_jobs=-1)]: Done   2 out of   5 | elapsed:    4.2s remaining:    6.3s\n",
      "[Parallel(n_jobs=-1)]: Done   5 out of   5 | elapsed:    4.8s finished\n",
      "[Parallel(n_jobs=5)]: Using backend ThreadingBackend with 5 concurrent workers.\n",
      "[Parallel(n_jobs=5)]: Done   2 out of   5 | elapsed:    0.0s remaining:    0.0s\n",
      "[Parallel(n_jobs=5)]: Done   5 out of   5 | elapsed:    0.0s finished\n",
      "[Parallel(n_jobs=-1)]: Using backend ThreadingBackend with 8 concurrent workers.\n",
      "[Parallel(n_jobs=-1)]: Done  34 tasks      | elapsed:   23.7s\n",
      "[Parallel(n_jobs=-1)]: Done  50 out of  50 | elapsed:   33.7s finished\n",
      "[Parallel(n_jobs=-1)]: Using backend ThreadingBackend with 8 concurrent workers.\n",
      "[Parallel(n_jobs=-1)]: Done  20 out of  20 | elapsed:   17.1s finished\n",
      "[Parallel(n_jobs=8)]: Using backend ThreadingBackend with 8 concurrent workers.\n",
      "[Parallel(n_jobs=8)]: Done  20 out of  20 | elapsed:    0.0s finished\n",
      "[Parallel(n_jobs=-1)]: Using backend ThreadingBackend with 8 concurrent workers.\n",
      "[Parallel(n_jobs=-1)]: Done  34 tasks      | elapsed:   29.6s\n",
      "[Parallel(n_jobs=-1)]: Done  50 out of  50 | elapsed:   39.7s finished\n",
      "[Parallel(n_jobs=-1)]: Using backend ThreadingBackend with 8 concurrent workers.\n",
      "[Parallel(n_jobs=-1)]: Done   2 out of   5 | elapsed:    4.5s remaining:    6.8s\n",
      "[Parallel(n_jobs=-1)]: Done   5 out of   5 | elapsed:    5.1s finished\n",
      "[Parallel(n_jobs=5)]: Using backend ThreadingBackend with 5 concurrent workers.\n",
      "[Parallel(n_jobs=5)]: Done   2 out of   5 | elapsed:    0.0s remaining:    0.0s\n",
      "[Parallel(n_jobs=5)]: Done   5 out of   5 | elapsed:    0.0s finished\n",
      "[Parallel(n_jobs=-1)]: Using backend ThreadingBackend with 8 concurrent workers.\n",
      "[Parallel(n_jobs=-1)]: Done  34 tasks      | elapsed:   24.9s\n",
      "[Parallel(n_jobs=-1)]: Done  50 out of  50 | elapsed:   33.0s finished\n",
      "[Parallel(n_jobs=-1)]: Using backend ThreadingBackend with 8 concurrent workers.\n",
      "[Parallel(n_jobs=-1)]: Done  20 out of  20 | elapsed:   16.0s finished\n",
      "[Parallel(n_jobs=8)]: Using backend ThreadingBackend with 8 concurrent workers.\n",
      "[Parallel(n_jobs=8)]: Done  20 out of  20 | elapsed:    0.0s finished\n"
     ]
    },
    {
     "name": "stdout",
     "output_type": "stream",
     "text": [
      "[Pipeline]  (step 1 of 3) Processing scat_standard_scaling, total=   1.5s\n",
      "[Pipeline] . (step 2 of 3) Processing feature_selection, total=  38.7s\n",
      "[Pipeline] ........ (step 3 of 3) Processing classifier, total=   7.6s\n",
      "[Pipeline]  (step 1 of 3) Processing scat_standard_scaling, total=   2.0s\n",
      "[Pipeline] . (step 2 of 3) Processing feature_selection, total=  34.1s\n",
      "[Pipeline] ........ (step 3 of 3) Processing classifier, total=  14.0s\n"
     ]
    },
    {
     "name": "stderr",
     "output_type": "stream",
     "text": [
      "[Parallel(n_jobs=-1)]: Using backend ThreadingBackend with 8 concurrent workers.\n",
      "[Parallel(n_jobs=-1)]: Done  34 tasks      | elapsed:   28.6s\n",
      "[Parallel(n_jobs=-1)]: Done  50 out of  50 | elapsed:   37.9s finished\n",
      "[Parallel(n_jobs=-1)]: Using backend ThreadingBackend with 8 concurrent workers.\n",
      "[Parallel(n_jobs=-1)]: Done   6 out of  10 | elapsed:    4.8s remaining:    3.2s\n",
      "[Parallel(n_jobs=-1)]: Done  10 out of  10 | elapsed:    7.4s finished\n",
      "[Parallel(n_jobs=8)]: Using backend ThreadingBackend with 8 concurrent workers.\n",
      "[Parallel(n_jobs=8)]: Done   6 out of  10 | elapsed:    0.0s remaining:    0.0s\n",
      "[Parallel(n_jobs=8)]: Done  10 out of  10 | elapsed:    0.0s finished\n",
      "[Parallel(n_jobs=-1)]: Using backend ThreadingBackend with 8 concurrent workers.\n",
      "[Parallel(n_jobs=-1)]: Done  34 tasks      | elapsed:   26.5s\n",
      "[Parallel(n_jobs=-1)]: Done  50 out of  50 | elapsed:   32.9s finished\n",
      "[Parallel(n_jobs=-1)]: Using backend ThreadingBackend with 8 concurrent workers.\n",
      "[Parallel(n_jobs=-1)]: Done  20 out of  20 | elapsed:   13.4s finished\n",
      "[Parallel(n_jobs=8)]: Using backend ThreadingBackend with 8 concurrent workers.\n",
      "[Parallel(n_jobs=8)]: Done  20 out of  20 | elapsed:    0.0s finished\n"
     ]
    }
   ],
   "source": [
    "sample_weight = pd.Series(y_test).value_counts(normalize=True).apply(lambda x:1-x).reindex(y_test)\n",
    "\n",
    "print(metrics.classification_report(y_true=y_test, y_pred=Y_test, sample_weight=sample_weight))"
   ]
  },
  {
   "cell_type": "code",
   "execution_count": null,
   "id": "b40e3bb1-164d-47df-855f-20de5a8899df",
   "metadata": {},
   "outputs": [],
   "source": []
  }
 ],
 "metadata": {
  "kernelspec": {
   "display_name": "Python 3 (ipykernel)",
   "language": "python",
   "name": "python3"
  },
  "language_info": {
   "codemirror_mode": {
    "name": "ipython",
    "version": 3
   },
   "file_extension": ".py",
   "mimetype": "text/x-python",
   "name": "python",
   "nbconvert_exporter": "python",
   "pygments_lexer": "ipython3",
   "version": "3.8.10"
  }
 },
 "nbformat": 4,
 "nbformat_minor": 5
}

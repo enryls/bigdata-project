{
 "cells": [
  {
   "cell_type": "code",
   "execution_count": 1,
   "id": "8d8d97b1-1fbc-479b-b06d-26b6aaa63c4a",
   "metadata": {},
   "outputs": [],
   "source": [
    "import numpy as np\n",
    "import pandas as pd\n",
    "import seaborn as sns\n",
    "from sklearn.pipeline import Pipeline\n",
    "from sklearn.preprocessing import StandardScaler\n",
    "from sklearn.decomposition import PCA\n",
    "from sklearn.manifold import TSNE\n",
    "from sklearn.utils import shuffle\n",
    "from sklearn.ensemble import ExtraTreesClassifier, RandomForestClassifier\n",
    "from sklearn.feature_selection import SelectFromModel\n"
   ]
  },
  {
   "cell_type": "code",
   "execution_count": 2,
   "id": "8262006c-3e52-4a9a-8ffd-83e2b35edb68",
   "metadata": {},
   "outputs": [],
   "source": [
    "df = pd.read_csv(\"../data/creditcard.csv\")\n",
    "\n",
    "y_class = df[\"Class\"]\n",
    "\n",
    "df = df.drop(columns= [\"Class\"])"
   ]
  },
  {
   "cell_type": "markdown",
   "id": "7f096de2-d85b-413c-beed-3d4205299f76",
   "metadata": {},
   "source": [
    "# 02-exploratory_prep\n",
    "\n",
    "## Preprocessing pipeline \n",
    "\n",
    "### Creare uno standard scaler\n"
   ]
  },
  {
   "cell_type": "code",
   "execution_count": 3,
   "id": "51b9bed0-8245-4cbe-a926-3d8642c890ad",
   "metadata": {
    "tags": []
   },
   "outputs": [
    {
     "data": {
      "text/plain": [
       "(array([[ 4.15050000e+04, -1.65265066e+01,  8.58497180e+00, ...,\n",
       "         -2.01857525e+00, -1.04280417e+00,  3.64190000e+02],\n",
       "        [ 4.42610000e+04,  3.39812064e-01, -2.74374524e+00, ...,\n",
       "          4.09958027e-02,  1.02037825e-01,  5.20120000e+02],\n",
       "        [ 3.54840000e+04,  1.39959027e+00, -5.90701288e-01, ...,\n",
       "          1.14086454e-02,  4.63414166e-03,  3.10000000e+01],\n",
       "        ...,\n",
       "        [ 7.97950000e+04, -1.46608925e-01,  9.92946123e-01, ...,\n",
       "         -1.21139194e-01, -1.96195328e-01,  3.94000000e+00],\n",
       "        [ 8.79310000e+04, -2.94863809e+00,  2.35484929e+00, ...,\n",
       "          4.96912107e-01,  3.35821632e-01,  1.00000000e+00],\n",
       "        [ 7.63810000e+04,  1.23317435e+00, -7.84850501e-01, ...,\n",
       "          1.21657270e-03,  3.85878912e-02,  1.13000000e+02]]),\n",
       " array([1, 0, 0, ..., 0, 0, 0]))"
      ]
     },
     "execution_count": 3,
     "metadata": {},
     "output_type": "execute_result"
    }
   ],
   "source": [
    "X = df.values\n",
    "y = y_class.values\n",
    "X, y = shuffle(X, y, random_state=42)\n",
    "X, y"
   ]
  },
  {
   "cell_type": "code",
   "execution_count": 4,
   "id": "e198496e-31ae-4582-a2f6-09586773f46e",
   "metadata": {},
   "outputs": [
    {
     "data": {
      "text/plain": [
       "Pipeline(steps=[('scat_standard_scaling', StandardScaler()),\n",
       "                ('feature_selection',\n",
       "                 SelectFromModel(estimator=ExtraTreesClassifier(n_estimators=50)))])"
      ]
     },
     "execution_count": 4,
     "metadata": {},
     "output_type": "execute_result"
    }
   ],
   "source": [
    "logit = Pipeline([(\"scat_standard_scaling\", StandardScaler()), (\"feature_selection\", SelectFromModel(ExtraTreesClassifier(n_estimators=50)))])\n",
    "logit"
   ]
  },
  {
   "cell_type": "code",
   "execution_count": 5,
   "id": "4345a52a-bfe8-4fe8-9092-9c5aff9d29c1",
   "metadata": {},
   "outputs": [
    {
     "data": {
      "text/plain": [
       "Pipeline(steps=[('scat_standard_scaling', StandardScaler()),\n",
       "                ('feature_selection',\n",
       "                 SelectFromModel(estimator=ExtraTreesClassifier(n_estimators=50)))])"
      ]
     },
     "execution_count": 5,
     "metadata": {},
     "output_type": "execute_result"
    }
   ],
   "source": [
    "logit.fit(X, y)"
   ]
  },
  {
   "cell_type": "code",
   "execution_count": 6,
   "id": "bebea833-2242-4ed3-97f0-5047ba93b036",
   "metadata": {
    "tags": []
   },
   "outputs": [
    {
     "data": {
      "text/plain": [
       "array([ 9.48138596e+04,  1.15341619e-15,  3.94713176e-16, -1.41452230e-15,\n",
       "        2.06964615e-15,  1.00043371e-15,  1.53743593e-15, -6.25289293e-16,\n",
       "        1.08507600e-16, -2.39806177e-15,  2.25190186e-15,  1.64716171e-15,\n",
       "       -1.24674475e-15,  8.30348059e-16,  1.21338625e-15,  4.88610242e-15,\n",
       "        1.43702364e-15, -3.75166612e-16,  9.65940458e-16,  1.04286478e-15,\n",
       "        6.40621337e-16,  1.46629319e-16, -3.45314729e-16,  2.67960047e-16,\n",
       "        4.48912641e-15,  5.43932371e-16,  1.68924000e-15, -3.55198612e-16,\n",
       "       -1.22844786e-16,  8.83496193e+01])"
      ]
     },
     "execution_count": 6,
     "metadata": {},
     "output_type": "execute_result"
    }
   ],
   "source": [
    "logit.steps[0][1].mean_"
   ]
  },
  {
   "cell_type": "code",
   "execution_count": 14,
   "id": "e08b151d-5641-47b9-878f-1a7b366e1721",
   "metadata": {
    "tags": []
   },
   "outputs": [
    {
     "data": {
      "text/plain": [
       "(284807, 9)"
      ]
     },
     "execution_count": 14,
     "metadata": {},
     "output_type": "execute_result"
    }
   ],
   "source": [
    "Y = logit.transform(X)\n",
    "Y.shape"
   ]
  },
  {
   "cell_type": "code",
   "execution_count": 8,
   "id": "d60349bb-7a1d-4e2a-b544-ab22e2e767e0",
   "metadata": {
    "tags": []
   },
   "outputs": [
    {
     "data": {
      "text/plain": [
       "array([ 1.56674814e-17, -4.04161145e-18, -4.98964376e-18,  6.79090516e-17,\n",
       "        6.38674402e-18,  7.55931030e-18,  1.77631318e-17, -1.32225560e-18,\n",
       "        1.60167565e-17])"
      ]
     },
     "execution_count": 8,
     "metadata": {},
     "output_type": "execute_result"
    }
   ],
   "source": [
    "np.mean(Y, axis=0)"
   ]
  },
  {
   "cell_type": "code",
   "execution_count": 9,
   "id": "84315b5c-0415-4981-a237-02ef97c740ce",
   "metadata": {},
   "outputs": [
    {
     "data": {
      "text/plain": [
       "array([1., 1., 1., 1., 1., 1., 1., 1., 1.])"
      ]
     },
     "execution_count": 9,
     "metadata": {},
     "output_type": "execute_result"
    }
   ],
   "source": [
    "np.std(Y, axis=0)"
   ]
  },
  {
   "cell_type": "markdown",
   "id": "3da2644f-4385-4922-89b1-994a5ec61eab",
   "metadata": {
    "tags": []
   },
   "source": [
    "## Multi dimensional exploration"
   ]
  },
  {
   "cell_type": "code",
   "execution_count": 10,
   "id": "686026bd-8129-4607-a690-a99f774b54fc",
   "metadata": {},
   "outputs": [],
   "source": [
    "tsne = TSNE(n_components=2, random_state=42, n_jobs=-1, perplexity=10, learning_rate=20)\n",
    "\n",
    "pca_search = PCA(random_state=42)"
   ]
  },
  {
   "cell_type": "code",
   "execution_count": 11,
   "id": "346bc4fe-4b6e-42e1-a4ea-4cc0f11d50d9",
   "metadata": {},
   "outputs": [
    {
     "name": "stdout",
     "output_type": "stream",
     "text": [
      "CPU times: user 21.2 s, sys: 2.04 s, total: 23.2 s\n",
      "Wall time: 3.45 s\n"
     ]
    }
   ],
   "source": [
    "%%time\n",
    "Y_tsne = tsne.fit_transform(X[:1000])"
   ]
  },
  {
   "cell_type": "code",
   "execution_count": 12,
   "id": "315925b4-30f4-4a44-be9c-c774ed48e44d",
   "metadata": {},
   "outputs": [
    {
     "data": {
      "text/plain": [
       "(1000, 2)"
      ]
     },
     "execution_count": 12,
     "metadata": {},
     "output_type": "execute_result"
    }
   ],
   "source": [
    "Y_tsne.shape"
   ]
  },
  {
   "cell_type": "code",
   "execution_count": 13,
   "id": "b2c50ba6-cddc-40d2-acb8-bb44b319e539",
   "metadata": {},
   "outputs": [
    {
     "data": {
      "text/plain": [
       "<AxesSubplot:>"
      ]
     },
     "execution_count": 13,
     "metadata": {},
     "output_type": "execute_result"
    },
    {
     "data": {
      "image/png": "[encoded data removed]",
      "text/plain": [
       "<Figure size 432x288 with 1 Axes>"
      ]
     },
     "metadata": {
      "needs_background": "light"
     },
     "output_type": "display_data"
    }
   ],
   "source": [
    "sns.scatterplot(x=Y_tsne[:,0], y=Y_tsne[:,1])"
   ]
  },
  {
   "cell_type": "code",
   "execution_count": null,
   "id": "c08088a5-7ba5-4742-b957-208375677f69",
   "metadata": {},
   "outputs": [],
   "source": []
  }
 ],
 "metadata": {
  "kernelspec": {
   "display_name": "Python 3",
   "language": "python",
   "name": "python3"
  },
  "language_info": {
   "codemirror_mode": {
    "name": "ipython",
    "version": 3
   },
   "file_extension": ".py",
   "mimetype": "text/x-python",
   "name": "python",
   "nbconvert_exporter": "python",
   "pygments_lexer": "ipython3",
   "version": "3.8.8"
  }
 },
 "nbformat": 4,
 "nbformat_minor": 5
}

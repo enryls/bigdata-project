{
 "cells": [
  {
   "cell_type": "markdown",
   "id": "c5f4e175",
   "metadata": {},
   "source": [
    "# Progetto Big Data (PySpark) - Unipa"
   ]
  },
  {
   "cell_type": "markdown",
   "id": "f9331fac-5a43-4238-af3d-9446b4be5efa",
   "metadata": {},
   "source": [
    "Per una descrizione più completa sui vari passaggi, si faccia riferimento al notebook `Progetto Big Data (Sklearn) - Unipa`."
   ]
  },
  {
   "cell_type": "markdown",
   "id": "bf1b2934",
   "metadata": {
    "tags": []
   },
   "source": [
    "## Import"
   ]
  },
  {
   "cell_type": "code",
   "execution_count": 1,
   "id": "bf90d155",
   "metadata": {},
   "outputs": [],
   "source": [
    "import pandas as pd\n",
    "import re\n",
    "from pyspark.sql import SparkSession, functions as f, dataframe\n",
    "from pyspark.ml.feature import VectorAssembler\n",
    "from pyspark.ml.classification import RandomForestClassifier\n",
    "from pyspark.ml.classification import LogisticRegression\n",
    "from pyspark.ml.evaluation import BinaryClassificationEvaluator\n",
    "from pyspark.mllib.evaluation import BinaryClassificationMetrics\n",
    "from pyspark.ml.feature import UnivariateFeatureSelector\n",
    "from pyspark.ml.tuning import ParamGridBuilder\n",
    "from pyspark.ml.tuning import CrossValidator\n",
    "import numpy as np\n",
    "from pyspark.ml import Pipeline\n",
    "\n",
    "from pandas_profiling import ProfileReport\n",
    "import matplotlib.pyplot as plt\n",
    "import seaborn as sns\n",
    "\n",
    "sns.set_theme(style=\"whitegrid\")\n",
    "sns.set_context(\"paper\")"
   ]
  },
  {
   "cell_type": "markdown",
   "id": "8e034582",
   "metadata": {
    "tags": []
   },
   "source": [
    "## Data Load"
   ]
  },
  {
   "cell_type": "code",
   "execution_count": 2,
   "id": "3cdfcf6d-d665-459f-8dd6-6d65962ec8a2",
   "metadata": {},
   "outputs": [
    {
     "name": "stderr",
     "output_type": "stream",
     "text": [
      "WARNING: An illegal reflective access operation has occurred\n",
      "WARNING: Illegal reflective access by org.apache.spark.unsafe.Platform (file:/usr/local/spark-3.1.2-bin-hadoop3.2/jars/spark-unsafe_2.12-3.1.2.jar) to constructor java.nio.DirectByteBuffer(long,int)\n",
      "WARNING: Please consider reporting this to the maintainers of org.apache.spark.unsafe.Platform\n",
      "WARNING: Use --illegal-access=warn to enable warnings of further illegal reflective access operations\n",
      "WARNING: All illegal access operations will be denied in a future release\n",
      "21/08/30 10:04:46 WARN NativeCodeLoader: Unable to load native-hadoop library for your platform... using builtin-java classes where applicable\n",
      "Using Spark's default log4j profile: org/apache/spark/log4j-defaults.properties\n",
      "Setting default log level to \"WARN\".\n",
      "To adjust logging level use sc.setLogLevel(newLevel). For SparkR, use setLogLevel(newLevel).\n",
      "21/08/30 10:04:52 WARN package: Truncated the string representation of a plan since it was too large. This behavior can be adjusted by setting 'spark.sql.debug.maxToStringFields'.\n"
     ]
    },
    {
     "name": "stdout",
     "output_type": "stream",
     "text": [
      "DataFrame[Time: double, V1: double, V2: double, V3: double, V4: double, V5: double, V6: double, V7: double, V8: double, V9: double, V10: double, V11: double, V12: double, V13: double, V14: double, V15: double, V16: double, V17: double, V18: double, V19: double, V20: double, V21: double, V22: double, V23: double, V24: double, V25: double, V26: double, V27: double, V28: double, Amount: double, Class: int]\n"
     ]
    },
    {
     "data": {
      "text/plain": [
       "Row(Time=0.0, V1=-1.3598071336738, V2=-0.0727811733098497, V3=2.53634673796914, V4=1.37815522427443, V5=-0.338320769942518, V6=0.462387777762292, V7=0.239598554061257, V8=0.0986979012610507, V9=0.363786969611213, V10=0.0907941719789316, V11=-0.551599533260813, V12=-0.617800855762348, V13=-0.991389847235408, V14=-0.311169353699879, V15=1.46817697209427, V16=-0.470400525259478, V17=0.207971241929242, V18=0.0257905801985591, V19=0.403992960255733, V20=0.251412098239705, V21=-0.018306777944153, V22=0.277837575558899, V23=-0.110473910188767, V24=0.0669280749146731, V25=0.128539358273528, V26=-0.189114843888824, V27=0.133558376740387, V28=-0.0210530534538215, Amount=149.62, Class=0)"
      ]
     },
     "execution_count": 2,
     "metadata": {},
     "output_type": "execute_result"
    }
   ],
   "source": [
    "spark = SparkSession.builder.appName('Progetto Big Data - Unipa').getOrCreate()\n",
    "\n",
    "csv_file = \"../data/creditcard.csv\"\n",
    "df = spark.read.format(\"csv\").option(\"inferSchema\", \"true\").option(\"header\", \"true\").load(csv_file)\n",
    " \n",
    "print(df)\n",
    "df.head()"
   ]
  },
  {
   "cell_type": "code",
   "execution_count": 3,
   "id": "9fd95a80-99c6-4c7c-9322-5852738761c7",
   "metadata": {},
   "outputs": [
    {
     "name": "stdout",
     "output_type": "stream",
     "text": [
      "   Class   count  relative_freq\n",
      "0      1     492       0.001727\n",
      "1      0  284315       0.998273\n"
     ]
    },
    {
     "name": "stderr",
     "output_type": "stream",
     "text": [
      "                                                                                \r"
     ]
    }
   ],
   "source": [
    "distribuzione_classi = df.groupBy('Class').count().toPandas().eval(\"relative_freq = count / count.sum()\")\n",
    "print(distribuzione_classi)"
   ]
  },
  {
   "cell_type": "markdown",
   "id": "2d0760ad-4f07-4176-9804-19643f9c6008",
   "metadata": {},
   "source": [
    "Le Feature `V*` hanno una media uguale a zero (prevedibile dato che derivano da una PCA) e Deviazione Standard contenuta."
   ]
  },
  {
   "cell_type": "code",
   "execution_count": 4,
   "id": "9ec28c89-4a01-4c14-9a82-d144d5250768",
   "metadata": {},
   "outputs": [
    {
     "name": "stderr",
     "output_type": "stream",
     "text": [
      "                                                                                \r"
     ]
    },
    {
     "data": {
      "text/html": [
       "<div>\n",
       "<style scoped>\n",
       "    .dataframe tbody tr th:only-of-type {\n",
       "        vertical-align: middle;\n",
       "    }\n",
       "\n",
       "    .dataframe tbody tr th {\n",
       "        vertical-align: top;\n",
       "    }\n",
       "\n",
       "    .dataframe thead th {\n",
       "        text-align: right;\n",
       "    }\n",
       "</style>\n",
       "<table border=\"1\" class=\"dataframe\">\n",
       "  <thead>\n",
       "    <tr style=\"text-align: right;\">\n",
       "      <th>summary</th>\n",
       "      <th>count</th>\n",
       "      <th>mean</th>\n",
       "      <th>stddev</th>\n",
       "      <th>min</th>\n",
       "      <th>max</th>\n",
       "    </tr>\n",
       "  </thead>\n",
       "  <tbody>\n",
       "    <tr>\n",
       "      <th>Time</th>\n",
       "      <td>284807</td>\n",
       "      <td>94813.86</td>\n",
       "      <td>47488.15</td>\n",
       "      <td>0.0</td>\n",
       "      <td>172792.0</td>\n",
       "    </tr>\n",
       "    <tr>\n",
       "      <th>V1</th>\n",
       "      <td>284807</td>\n",
       "      <td>0.0</td>\n",
       "      <td>1.96</td>\n",
       "      <td>-56.41</td>\n",
       "      <td>2.45</td>\n",
       "    </tr>\n",
       "    <tr>\n",
       "      <th>V2</th>\n",
       "      <td>284807</td>\n",
       "      <td>0.0</td>\n",
       "      <td>1.65</td>\n",
       "      <td>-72.72</td>\n",
       "      <td>22.06</td>\n",
       "    </tr>\n",
       "    <tr>\n",
       "      <th>V3</th>\n",
       "      <td>284807</td>\n",
       "      <td>-0.0</td>\n",
       "      <td>1.52</td>\n",
       "      <td>-48.33</td>\n",
       "      <td>9.38</td>\n",
       "    </tr>\n",
       "    <tr>\n",
       "      <th>V4</th>\n",
       "      <td>284807</td>\n",
       "      <td>0.0</td>\n",
       "      <td>1.42</td>\n",
       "      <td>-5.68</td>\n",
       "      <td>16.88</td>\n",
       "    </tr>\n",
       "    <tr>\n",
       "      <th>V5</th>\n",
       "      <td>284807</td>\n",
       "      <td>0.0</td>\n",
       "      <td>1.38</td>\n",
       "      <td>-113.74</td>\n",
       "      <td>34.8</td>\n",
       "    </tr>\n",
       "    <tr>\n",
       "      <th>V6</th>\n",
       "      <td>284807</td>\n",
       "      <td>0.0</td>\n",
       "      <td>1.33</td>\n",
       "      <td>-26.16</td>\n",
       "      <td>73.3</td>\n",
       "    </tr>\n",
       "    <tr>\n",
       "      <th>V7</th>\n",
       "      <td>284807</td>\n",
       "      <td>-0.0</td>\n",
       "      <td>1.24</td>\n",
       "      <td>-43.56</td>\n",
       "      <td>120.59</td>\n",
       "    </tr>\n",
       "    <tr>\n",
       "      <th>V8</th>\n",
       "      <td>284807</td>\n",
       "      <td>0.0</td>\n",
       "      <td>1.19</td>\n",
       "      <td>-73.22</td>\n",
       "      <td>20.01</td>\n",
       "    </tr>\n",
       "    <tr>\n",
       "      <th>V9</th>\n",
       "      <td>284807</td>\n",
       "      <td>-0.0</td>\n",
       "      <td>1.1</td>\n",
       "      <td>-13.43</td>\n",
       "      <td>15.59</td>\n",
       "    </tr>\n",
       "    <tr>\n",
       "      <th>V10</th>\n",
       "      <td>284807</td>\n",
       "      <td>0.0</td>\n",
       "      <td>1.09</td>\n",
       "      <td>-24.59</td>\n",
       "      <td>23.75</td>\n",
       "    </tr>\n",
       "    <tr>\n",
       "      <th>V11</th>\n",
       "      <td>284807</td>\n",
       "      <td>0.0</td>\n",
       "      <td>1.02</td>\n",
       "      <td>-4.8</td>\n",
       "      <td>12.02</td>\n",
       "    </tr>\n",
       "    <tr>\n",
       "      <th>V12</th>\n",
       "      <td>284807</td>\n",
       "      <td>-0.0</td>\n",
       "      <td>1.0</td>\n",
       "      <td>-18.68</td>\n",
       "      <td>7.85</td>\n",
       "    </tr>\n",
       "    <tr>\n",
       "      <th>V13</th>\n",
       "      <td>284807</td>\n",
       "      <td>0.0</td>\n",
       "      <td>1.0</td>\n",
       "      <td>-5.79</td>\n",
       "      <td>7.13</td>\n",
       "    </tr>\n",
       "    <tr>\n",
       "      <th>V14</th>\n",
       "      <td>284807</td>\n",
       "      <td>0.0</td>\n",
       "      <td>0.96</td>\n",
       "      <td>-19.21</td>\n",
       "      <td>10.53</td>\n",
       "    </tr>\n",
       "    <tr>\n",
       "      <th>V15</th>\n",
       "      <td>284807</td>\n",
       "      <td>0.0</td>\n",
       "      <td>0.92</td>\n",
       "      <td>-4.5</td>\n",
       "      <td>8.88</td>\n",
       "    </tr>\n",
       "    <tr>\n",
       "      <th>V16</th>\n",
       "      <td>284807</td>\n",
       "      <td>0.0</td>\n",
       "      <td>0.88</td>\n",
       "      <td>-14.13</td>\n",
       "      <td>17.32</td>\n",
       "    </tr>\n",
       "    <tr>\n",
       "      <th>V17</th>\n",
       "      <td>284807</td>\n",
       "      <td>-0.0</td>\n",
       "      <td>0.85</td>\n",
       "      <td>-25.16</td>\n",
       "      <td>9.25</td>\n",
       "    </tr>\n",
       "    <tr>\n",
       "      <th>V18</th>\n",
       "      <td>284807</td>\n",
       "      <td>0.0</td>\n",
       "      <td>0.84</td>\n",
       "      <td>-9.5</td>\n",
       "      <td>5.04</td>\n",
       "    </tr>\n",
       "    <tr>\n",
       "      <th>V19</th>\n",
       "      <td>284807</td>\n",
       "      <td>0.0</td>\n",
       "      <td>0.81</td>\n",
       "      <td>-7.21</td>\n",
       "      <td>5.59</td>\n",
       "    </tr>\n",
       "    <tr>\n",
       "      <th>V20</th>\n",
       "      <td>284807</td>\n",
       "      <td>0.0</td>\n",
       "      <td>0.77</td>\n",
       "      <td>-54.5</td>\n",
       "      <td>39.42</td>\n",
       "    </tr>\n",
       "    <tr>\n",
       "      <th>V21</th>\n",
       "      <td>284807</td>\n",
       "      <td>0.0</td>\n",
       "      <td>0.73</td>\n",
       "      <td>-34.83</td>\n",
       "      <td>27.2</td>\n",
       "    </tr>\n",
       "    <tr>\n",
       "      <th>V22</th>\n",
       "      <td>284807</td>\n",
       "      <td>-0.0</td>\n",
       "      <td>0.73</td>\n",
       "      <td>-10.93</td>\n",
       "      <td>10.5</td>\n",
       "    </tr>\n",
       "    <tr>\n",
       "      <th>V23</th>\n",
       "      <td>284807</td>\n",
       "      <td>0.0</td>\n",
       "      <td>0.62</td>\n",
       "      <td>-44.81</td>\n",
       "      <td>22.53</td>\n",
       "    </tr>\n",
       "    <tr>\n",
       "      <th>V24</th>\n",
       "      <td>284807</td>\n",
       "      <td>0.0</td>\n",
       "      <td>0.61</td>\n",
       "      <td>-2.84</td>\n",
       "      <td>4.58</td>\n",
       "    </tr>\n",
       "    <tr>\n",
       "      <th>V25</th>\n",
       "      <td>284807</td>\n",
       "      <td>0.0</td>\n",
       "      <td>0.52</td>\n",
       "      <td>-10.3</td>\n",
       "      <td>7.52</td>\n",
       "    </tr>\n",
       "    <tr>\n",
       "      <th>V26</th>\n",
       "      <td>284807</td>\n",
       "      <td>0.0</td>\n",
       "      <td>0.48</td>\n",
       "      <td>-2.6</td>\n",
       "      <td>3.52</td>\n",
       "    </tr>\n",
       "    <tr>\n",
       "      <th>V27</th>\n",
       "      <td>284807</td>\n",
       "      <td>-0.0</td>\n",
       "      <td>0.4</td>\n",
       "      <td>-22.57</td>\n",
       "      <td>31.61</td>\n",
       "    </tr>\n",
       "    <tr>\n",
       "      <th>V28</th>\n",
       "      <td>284807</td>\n",
       "      <td>-0.0</td>\n",
       "      <td>0.33</td>\n",
       "      <td>-15.43</td>\n",
       "      <td>33.85</td>\n",
       "    </tr>\n",
       "    <tr>\n",
       "      <th>Amount</th>\n",
       "      <td>284807</td>\n",
       "      <td>88.35</td>\n",
       "      <td>250.12</td>\n",
       "      <td>0.0</td>\n",
       "      <td>25691.16</td>\n",
       "    </tr>\n",
       "    <tr>\n",
       "      <th>Class</th>\n",
       "      <td>284807</td>\n",
       "      <td>0.0</td>\n",
       "      <td>0.04</td>\n",
       "      <td>0.0</td>\n",
       "      <td>1.0</td>\n",
       "    </tr>\n",
       "  </tbody>\n",
       "</table>\n",
       "</div>"
      ],
      "text/plain": [
       "summary   count      mean    stddev     min       max\n",
       "Time     284807  94813.86  47488.15     0.0  172792.0\n",
       "V1       284807       0.0      1.96  -56.41      2.45\n",
       "V2       284807       0.0      1.65  -72.72     22.06\n",
       "V3       284807      -0.0      1.52  -48.33      9.38\n",
       "V4       284807       0.0      1.42   -5.68     16.88\n",
       "V5       284807       0.0      1.38 -113.74      34.8\n",
       "V6       284807       0.0      1.33  -26.16      73.3\n",
       "V7       284807      -0.0      1.24  -43.56    120.59\n",
       "V8       284807       0.0      1.19  -73.22     20.01\n",
       "V9       284807      -0.0       1.1  -13.43     15.59\n",
       "V10      284807       0.0      1.09  -24.59     23.75\n",
       "V11      284807       0.0      1.02    -4.8     12.02\n",
       "V12      284807      -0.0       1.0  -18.68      7.85\n",
       "V13      284807       0.0       1.0   -5.79      7.13\n",
       "V14      284807       0.0      0.96  -19.21     10.53\n",
       "V15      284807       0.0      0.92    -4.5      8.88\n",
       "V16      284807       0.0      0.88  -14.13     17.32\n",
       "V17      284807      -0.0      0.85  -25.16      9.25\n",
       "V18      284807       0.0      0.84    -9.5      5.04\n",
       "V19      284807       0.0      0.81   -7.21      5.59\n",
       "V20      284807       0.0      0.77   -54.5     39.42\n",
       "V21      284807       0.0      0.73  -34.83      27.2\n",
       "V22      284807      -0.0      0.73  -10.93      10.5\n",
       "V23      284807       0.0      0.62  -44.81     22.53\n",
       "V24      284807       0.0      0.61   -2.84      4.58\n",
       "V25      284807       0.0      0.52   -10.3      7.52\n",
       "V26      284807       0.0      0.48    -2.6      3.52\n",
       "V27      284807      -0.0       0.4  -22.57     31.61\n",
       "V28      284807      -0.0      0.33  -15.43     33.85\n",
       "Amount   284807     88.35    250.12     0.0  25691.16\n",
       "Class    284807       0.0      0.04     0.0       1.0"
      ]
     },
     "execution_count": 4,
     "metadata": {},
     "output_type": "execute_result"
    }
   ],
   "source": [
    "def describe(df):\n",
    "    descriptive_stats = df.describe().toPandas().set_index(\"summary\").T\n",
    "    descriptive_stats.loc[:, [\"mean\", \"stddev\", \"min\", \"max\"]] = descriptive_stats.loc[:, [\"mean\", \"stddev\", \"min\", \"max\"]].astype(\"float\").round(2)\n",
    "    return descriptive_stats\n",
    "    \n",
    "describe(df)"
   ]
  },
  {
   "cell_type": "code",
   "execution_count": 5,
   "id": "7f61560d-2270-4896-a3cf-714f389a0b2d",
   "metadata": {},
   "outputs": [],
   "source": [
    "# subsample = df.sample(withReplacement=False, fraction=5000 / df.count(), seed=42).toPandas()\n",
    "# profile = ProfileReport(subsample, title=\"Profiling Report\", minimal=True)\n",
    "# with open(\"progetto-big-data-unipa-spark-1-profile.html\", \"w\") as out:\n",
    "#     out.write(profile.to_html())"
   ]
  },
  {
   "cell_type": "code",
   "execution_count": 6,
   "id": "9ec8b033-5753-493a-8c21-ca8dab4e8120",
   "metadata": {},
   "outputs": [
    {
     "name": "stdout",
     "output_type": "stream",
     "text": [
      "   Class   count  relative_freq      Peso\n",
      "0      1     492       0.001727  0.998273\n",
      "1      0  284315       0.998273  0.001727\n",
      "\n",
      "Class\n",
      "1    0.998273\n",
      "0    0.001727\n",
      "Name: Peso, dtype: float64\n",
      "\n",
      "weights: FRAUD=0.9982725143693799; REGULAR=0.0017274856306199737\n",
      "\n",
      "+-----+------------------+\n",
      "|Class|              Peso|\n",
      "+-----+------------------+\n",
      "|    1|0.9982725143693799|\n",
      "|    1|0.9982725143693799|\n",
      "|    1|0.9982725143693799|\n",
      "+-----+------------------+\n",
      "only showing top 3 rows\n",
      "\n",
      "None\n",
      "+-----+--------------------+\n",
      "|Class|                Peso|\n",
      "+-----+--------------------+\n",
      "|    0|0.001727485630619...|\n",
      "|    0|0.001727485630619...|\n",
      "|    0|0.001727485630619...|\n",
      "+-----+--------------------+\n",
      "only showing top 3 rows\n",
      "\n",
      "None\n"
     ]
    }
   ],
   "source": [
    "# # Calcolo il peso da assegnare alle classi come l'inverso della frequenza relativa\n",
    "rel_freqs = df.groupBy('Class').count().toPandas()\\\n",
    "    .eval(\"relative_freq = count / count.sum()\")\\\n",
    "    .eval(\"Peso = 1 - relative_freq\")\n",
    "print(rel_freqs, end=\"\\n\\n\")\n",
    "\n",
    "pesi = rel_freqs.set_index(\"Class\")[\"Peso\"]\n",
    "print(pesi, end=\"\\n\\n\")\n",
    "\n",
    "fraud_weight = pesi[1]\n",
    "regular_weight = pesi[0]\n",
    "print(f\"weights: FRAUD={fraud_weight}; REGULAR={regular_weight}\", end=\"\\n\\n\")\n",
    "\n",
    "\n",
    "# Attribuiamo la colonna Peso nei dataset di train e test\n",
    "df = df.withColumn(\"Peso\", f.when(f.col(\"Class\") == 1, fraud_weight).otherwise(regular_weight))\n",
    "\n",
    "# Check everything seems ok\n",
    "print(df.select('Class', 'Peso').where(f.col('Class')==1).show(3))\n",
    "print(df.select('Class', 'Peso').where(f.col('Class')==0).show(3))"
   ]
  },
  {
   "cell_type": "markdown",
   "id": "cfdb879b",
   "metadata": {
    "tags": []
   },
   "source": [
    "## Creazione dei dataset train e test"
   ]
  },
  {
   "cell_type": "code",
   "execution_count": 7,
   "id": "23ac9652-34a9-42d5-a422-bdf176bd7da8",
   "metadata": {},
   "outputs": [
    {
     "name": "stderr",
     "output_type": "stream",
     "text": [
      "                                                                                \r"
     ]
    },
    {
     "name": "stdout",
     "output_type": "stream",
     "text": [
      ">>> Distribuzione classi `train_df`\n",
      "   Class   count  relative_freq\n",
      "0      1     389       0.001704\n",
      "1      0  227836       0.998296\n",
      "\n"
     ]
    },
    {
     "name": "stderr",
     "output_type": "stream",
     "text": [
      "[Stage 13:=========>                                              (2 + 10) / 12]\r"
     ]
    },
    {
     "name": "stdout",
     "output_type": "stream",
     "text": [
      ">>> Distribuzione classi `test_df`\n",
      "   Class  count  relative_freq\n",
      "0      1    103        0.00182\n",
      "1      0  56479        0.99818\n",
      "\n"
     ]
    },
    {
     "name": "stderr",
     "output_type": "stream",
     "text": [
      "                                                                                \r"
     ]
    }
   ],
   "source": [
    "def print_class_distr(df, name, class_col):\n",
    "    distribuzione_classi = df.groupBy(class_col).count().toPandas().eval(\"relative_freq = count / count.sum()\")\n",
    "    print(f\">>> Distribuzione classi `{name}`\")\n",
    "    print(distribuzione_classi, end=\"\\n\\n\")\n",
    "\n",
    "# Con un semplice campionamento random, le classi non sono bilanciate\n",
    "rand_train_df, rand_test_df = df.randomSplit([.8, .2], seed=42)\n",
    "\n",
    "print_class_distr(rand_train_df, \"train_df\", \"Class\")\n",
    "print_class_distr(rand_test_df, \"test_df\", \"Class\")"
   ]
  },
  {
   "cell_type": "markdown",
   "id": "ec0679e4-b8ff-4971-a91f-4eabdade7266",
   "metadata": {},
   "source": [
    "#### Campionamento Casuale Stratificato"
   ]
  },
  {
   "cell_type": "code",
   "execution_count": 8,
   "id": "067cd11d-2c74-49a6-9367-c5c2f90a499f",
   "metadata": {},
   "outputs": [
    {
     "name": "stderr",
     "output_type": "stream",
     "text": [
      "                                                                                \r"
     ]
    },
    {
     "name": "stdout",
     "output_type": "stream",
     "text": [
      ">>> Distribuzione classi `train_df`\n",
      "   Class   count  relative_freq\n",
      "0      1     366        0.00171\n",
      "1      0  213654        0.99829\n",
      "\n"
     ]
    },
    {
     "name": "stderr",
     "output_type": "stream",
     "text": [
      "[Stage 17:=============================>                         (13 + 11) / 24]\r"
     ]
    },
    {
     "name": "stdout",
     "output_type": "stream",
     "text": [
      ">>> Distribuzione classi `test_df`\n",
      "   Class  count  relative_freq\n",
      "0      1    126        0.00178\n",
      "1      0  70661        0.99822\n",
      "\n"
     ]
    },
    {
     "name": "stderr",
     "output_type": "stream",
     "text": [
      "                                                                                \r"
     ]
    }
   ],
   "source": [
    "# Sampling stratificato\n",
    "SAMPLING_PROPORTIONS = [.75, .25]\n",
    "\n",
    "_df_regular = df.filter(df.Class == 0)\n",
    "_df_fraud = df.filter(df.Class == 1)\n",
    "_train_df_regular, _test_df_regular = _df_regular.randomSplit(SAMPLING_PROPORTIONS, seed=42)\n",
    "_train_df_fraud, _test_df_fraud = _df_fraud.randomSplit(SAMPLING_PROPORTIONS, seed=42)\n",
    "\n",
    "# Creo due nuovi dataset in cui le classi sono bilanciate\n",
    "train_df = dataframe.DataFrame.union(_train_df_regular, _train_df_fraud)\n",
    "test_df = dataframe.DataFrame.union(_test_df_regular, _test_df_fraud)\n",
    "\n",
    "# Reshuffle (DF.sample con fraction=1 per randomizzare) \n",
    "train_df = train_df.sample(withReplacement=False, fraction=1., seed=42)\n",
    "test_df = test_df.sample(withReplacement=False, fraction=1., seed=42)\n",
    "test_df.cache()\n",
    "\n",
    "# I dataset ottenuti hanno la stessa frequenza relativa per le due classi\n",
    "print_class_distr(train_df, \"train_df\", \"Class\")\n",
    "print_class_distr(test_df, \"test_df\", \"Class\")"
   ]
  },
  {
   "cell_type": "markdown",
   "id": "677aead4",
   "metadata": {
    "tags": []
   },
   "source": [
    "## PreProcessing e selezione delle feature"
   ]
  },
  {
   "cell_type": "code",
   "execution_count": 9,
   "id": "8cb7c5f6-3305-4423-bee6-f0364e5c12b0",
   "metadata": {},
   "outputs": [
    {
     "name": "stdout",
     "output_type": "stream",
     "text": [
      "['Time', 'V1', 'V2', 'V3', 'V4', 'V5', 'V6', 'V7', 'V8', 'V9', 'V10', 'V11', 'V12', 'V13', 'V14', 'V15', 'V16', 'V17', 'V18', 'V19', 'V20', 'V21', 'V22', 'V23', 'V24', 'V25', 'V26', 'V27', 'V28', 'Amount']\n"
     ]
    },
    {
     "data": {
      "text/plain": [
       "VectorAssembler_70e4507fe26e"
      ]
     },
     "execution_count": 9,
     "metadata": {},
     "output_type": "execute_result"
    }
   ],
   "source": [
    "FEATURE_COL_NAMES = [c for c in df.schema.names if re.match(r\"^(Time|V[0-9]+|Amount)$\", c)]\n",
    "print(FEATURE_COL_NAMES)\n",
    "\n",
    "vector_assembler = VectorAssembler(inputCols=FEATURE_COL_NAMES, outputCol=\"Features\")\n",
    "vector_assembler"
   ]
  },
  {
   "cell_type": "markdown",
   "id": "352a2602-1c03-433a-bc4b-6c08be6f9029",
   "metadata": {},
   "source": [
    "## Selezione del modello"
   ]
  },
  {
   "cell_type": "code",
   "execution_count": 10,
   "id": "0a7bb263-dde1-40a8-9aec-da5dffde201c",
   "metadata": {},
   "outputs": [
    {
     "name": "stdout",
     "output_type": "stream",
     "text": [
      "Fitting 1/4: random_forest\n"
     ]
    },
    {
     "name": "stderr",
     "output_type": "stream",
     "text": [
      "                                                                                \r"
     ]
    },
    {
     "name": "stdout",
     "output_type": "stream",
     "text": [
      "Fitting 2/4: random_forest_w\n"
     ]
    },
    {
     "name": "stderr",
     "output_type": "stream",
     "text": [
      "                                                                                \r"
     ]
    },
    {
     "name": "stdout",
     "output_type": "stream",
     "text": [
      "Fitting 3/4: logistic_regression\n"
     ]
    },
    {
     "name": "stderr",
     "output_type": "stream",
     "text": [
      "21/08/30 10:05:31 WARN BLAS: Failed to load implementation from: com.github.fommil.netlib.NativeSystemBLAS\n",
      "21/08/30 10:05:31 WARN BLAS: Failed to load implementation from: com.github.fommil.netlib.NativeRefBLAS\n",
      "                                                                                \r"
     ]
    },
    {
     "name": "stdout",
     "output_type": "stream",
     "text": [
      "Fitting 4/4: logistic_regression_w\n"
     ]
    },
    {
     "name": "stderr",
     "output_type": "stream",
     "text": [
      "                                                                                \r"
     ]
    }
   ],
   "source": [
    "models = {\n",
    "    \"random_forest\": Pipeline().setStages([\n",
    "        vector_assembler, RandomForestClassifier(featuresCol=\"Features\", labelCol=\"Class\", seed=42),\n",
    "    ]),\n",
    "    \"random_forest_w\": Pipeline().setStages([\n",
    "        vector_assembler, RandomForestClassifier(weightCol=\"Peso\", featuresCol=\"Features\", labelCol=\"Class\", seed=42),\n",
    "    ]),\n",
    "    \"logistic_regression\": Pipeline().setStages([\n",
    "        vector_assembler, LogisticRegression(featuresCol=\"Features\", labelCol=\"Class\"),\n",
    "    ]),\n",
    "    \"logistic_regression_w\": Pipeline().setStages([\n",
    "        vector_assembler, LogisticRegression(weightCol=\"Peso\", featuresCol=\"Features\", labelCol=\"Class\"),\n",
    "    ]),\n",
    "}\n",
    "\n",
    "models_test_fit = {}\n",
    "\n",
    "n_models = len(models)\n",
    "for ix, (model_name, model) in enumerate(list(models.items())):\n",
    "    print(f\"Fitting {ix + 1}/{n_models}: {model_name}\")\n",
    "    models_test_fit[model_name] = model.fit(train_df)"
   ]
  },
  {
   "cell_type": "code",
   "execution_count": 34,
   "id": "6b645330-3435-4463-98f6-408b29a7e6f9",
   "metadata": {},
   "outputs": [],
   "source": [
    "def evaluate_model_train(model_name: str, model: object, dataset: object, results_accumulator: pd.DataFrame):\n",
    "    res = model.transform(dataset)\n",
    "    \n",
    "    auprc = model.stages[-1].summary.areaUnderROC\n",
    "    \n",
    "    if hasattr(model, \"bestModel\"):\n",
    "        model = model.bestModel\n",
    "    \n",
    "    _precisions = model.stages[-1].summary.precisionByThreshold.toPandas()\n",
    "    _recalls = model.stages[-1].summary.recallByThreshold.toPandas()\n",
    "    _performances_df = pd.concat(\n",
    "        [_precisions[\"precision\"], _recalls[\"recall\"]],\n",
    "        axis=1\n",
    "    ).assign(model=model_name)\n",
    "    results_accumulator = results_accumulator.append(_performances_df, ignore_index=True)\n",
    "    \n",
    "    print(f\"\"\">>> MODELLO: {model_name.upper()}\n",
    "\n",
    "    Precision/Recall:                   CLASSE\n",
    "                                  |   0    |   1    | \n",
    "                        ----------|--------|--------|\n",
    "                        precision | {{:02.2%}} | {{:02.2%}} |\n",
    "                        ----------|--------|--------|\n",
    "                        recall    | {{:02.2%}} | {{:02.2%}} |\n",
    "                        ----------|--------|--------|\n",
    "                        f1-score  | {{:02.2%}} | {{:02.2%}} |\n",
    "                        -----------------------------\n",
    "\n",
    "    Area Under PR Curve:  {auprc:03.2%}\n",
    "    \"\"\".format(\n",
    "            *model.stages[-1].summary.precisionByLabel,\n",
    "            *model.stages[-1].summary.recallByLabel,\n",
    "            *model.stages[-1].summary.fMeasureByLabel(beta=1.0)\n",
    "        )\n",
    "    )\n",
    "    return results_accumulator\n",
    "\n",
    "def _couple_record(lp, model):\n",
    "    return float(model.predict(lp.Features)), lp.Class\n",
    "\n",
    "from functools import partial\n",
    "\n",
    "def evaluate_model_test(model_name: str, model: object, dataset: object, evaluator: BinaryClassificationEvaluator):\n",
    "    res = model.transform(dataset)\n",
    "\n",
    "    # Compute raw scores on the test set\n",
    "    auprc = evaluator.evaluate(res)\n",
    "    \n",
    "   \n",
    "    print(f\"\"\">>> MODELLO: {model_name.upper()}\n",
    "    Area Under PR Curve:  {auprc:03.2%}\n",
    "    \"\"\")\n"
   ]
  },
  {
   "cell_type": "code",
   "execution_count": 12,
   "id": "b526b504-7221-4fbe-9ae4-29cfb2e8fbc8",
   "metadata": {},
   "outputs": [
    {
     "name": "stderr",
     "output_type": "stream",
     "text": [
      "                                                                                \r"
     ]
    },
    {
     "name": "stdout",
     "output_type": "stream",
     "text": [
      ">>> MODELLO: RANDOM_FOREST\n",
      "\n",
      "    Precision/Recall:                   CLASSE\n",
      "                                  |   0    |   1    | \n",
      "                        ----------|--------|--------|\n",
      "                        precision | 99.96% | 87.81% |\n",
      "                        ----------|--------|--------|\n",
      "                        recall    | 99.98% | 76.78% |\n",
      "                        ----------|--------|--------|\n",
      "                        f1-score  | 99.97% | 81.92% |\n",
      "                        -----------------------------\n",
      "\n",
      "    Area Under PR Curve:  97.16%\n",
      "    \n"
     ]
    },
    {
     "name": "stderr",
     "output_type": "stream",
     "text": [
      "                                                                                \r"
     ]
    },
    {
     "name": "stdout",
     "output_type": "stream",
     "text": [
      ">>> MODELLO: RANDOM_FOREST_W\n",
      "\n",
      "    Precision/Recall:                   CLASSE\n",
      "                                  |   0    |   1    | \n",
      "                        ----------|--------|--------|\n",
      "                        precision | 90.87% | 99.56% |\n",
      "                        ----------|--------|--------|\n",
      "                        recall    | 99.61% | 89.89% |\n",
      "                        ----------|--------|--------|\n",
      "                        f1-score  | 95.04% | 94.48% |\n",
      "                        -----------------------------\n",
      "\n",
      "    Area Under PR Curve:  99.45%\n",
      "    \n"
     ]
    },
    {
     "name": "stderr",
     "output_type": "stream",
     "text": [
      "                                                                                \r"
     ]
    },
    {
     "name": "stdout",
     "output_type": "stream",
     "text": [
      ">>> MODELLO: LOGISTIC_REGRESSION\n",
      "\n",
      "    Precision/Recall:                   CLASSE\n",
      "                                  |   0    |   1    | \n",
      "                        ----------|--------|--------|\n",
      "                        precision | 99.93% | 87.11% |\n",
      "                        ----------|--------|--------|\n",
      "                        recall    | 99.98% | 60.93% |\n",
      "                        ----------|--------|--------|\n",
      "                        f1-score  | 99.96% | 71.70% |\n",
      "                        -----------------------------\n",
      "\n",
      "    Area Under PR Curve:  97.58%\n",
      "    \n"
     ]
    },
    {
     "name": "stderr",
     "output_type": "stream",
     "text": [
      "                                                                                \r"
     ]
    },
    {
     "name": "stdout",
     "output_type": "stream",
     "text": [
      ">>> MODELLO: LOGISTIC_REGRESSION_W\n",
      "\n",
      "    Precision/Recall:                   CLASSE\n",
      "                                  |   0    |   1    | \n",
      "                        ----------|--------|--------|\n",
      "                        precision | 93.30% | 97.74% |\n",
      "                        ----------|--------|--------|\n",
      "                        recall    | 97.87% | 92.90% |\n",
      "                        ----------|--------|--------|\n",
      "                        f1-score  | 95.53% | 95.26% |\n",
      "                        -----------------------------\n",
      "\n",
      "    Area Under PR Curve:  99.01%\n",
      "    \n"
     ]
    },
    {
     "data": {
      "image/png": "[encoded data removed]",
      "text/plain": [
       "<Figure size 720x720 with 1 Axes>"
      ]
     },
     "metadata": {},
     "output_type": "display_data"
    }
   ],
   "source": [
    "precision_recall_df = pd.DataFrame(columns=[\"precision\", \"recall\", \"model\"])\n",
    "\n",
    "for model_name, model in models_test_fit.items():\n",
    "    precision_recall_df = evaluate_model_train(model_name, model, train_df, precision_recall_df)\n",
    "\n",
    "fig, ax = plt.subplots(1, 1, figsize=(10, 10))\n",
    "g = sns.lineplot(\n",
    "    data=precision_recall_df,\n",
    "    x=\"precision\", y=\"recall\", hue=\"model\"\n",
    ")\n",
    "plt.title(\"Curva Precision/Recall\")\n",
    "plt.show()"
   ]
  },
  {
   "cell_type": "code",
   "execution_count": 13,
   "id": "1311a9b3-3410-4dbe-96f8-5224371d482a",
   "metadata": {},
   "outputs": [
    {
     "data": {
      "text/plain": [
       "(Pipeline_9d507bf5be19, PipelineModel_4996917dad08)"
      ]
     },
     "execution_count": 13,
     "metadata": {},
     "output_type": "execute_result"
    }
   ],
   "source": [
    "best_model = models[\"random_forest_w\"]\n",
    "best_model_fit = models_test_fit[\"random_forest_w\"]\n",
    "(best_model, best_model_fit)"
   ]
  },
  {
   "cell_type": "code",
   "execution_count": 14,
   "id": "ae364489-40e3-41b6-a43d-867fc4de1c8c",
   "metadata": {},
   "outputs": [
    {
     "data": {
      "image/png": "[encoded data removed]",
      "text/plain": [
       "<Figure size 1296x576 with 1 Axes>"
      ]
     },
     "metadata": {},
     "output_type": "display_data"
    }
   ],
   "source": [
    "feature_importances = best_model_fit.stages[1].featureImportances.toArray()\n",
    "\n",
    "fig, ax = plt.subplots(1, 1, figsize =(18,8))\n",
    "g = sns.barplot(y=feature_importances, x=list(range(len(feature_importances))), ax=ax)\n",
    "plt.title(\"Importanza delle Feature\")\n",
    "sns.despine()\n",
    "plt.show()"
   ]
  },
  {
   "cell_type": "markdown",
   "id": "489457ac-4770-4b01-9044-1351720bfd6a",
   "metadata": {},
   "source": [
    "## Feature selection"
   ]
  },
  {
   "cell_type": "code",
   "execution_count": 15,
   "id": "d7adf99c-f7ae-4bb8-b2ce-6e128c9d4c15",
   "metadata": {},
   "outputs": [
    {
     "name": "stdout",
     "output_type": "stream",
     "text": [
      "FEATURE_SEL_TRESHOLD: 0.69%\n",
      "Feature selezionate (15 sy 30): ['V2', 'V3', 'V4', 'V5', 'V7', 'V10', 'V11', 'V12', 'V14', 'V16', 'V17', 'V18', 'V20', 'V21', 'V27']\n"
     ]
    }
   ],
   "source": [
    "FEATURE_SEL_TRESHOLD = np.quantile(feature_importances, .5)\n",
    "print(f\"FEATURE_SEL_TRESHOLD: {FEATURE_SEL_TRESHOLD:02.2%}\")\n",
    "\n",
    "selected_features = [col for ix, col in enumerate(FEATURE_COL_NAMES) if feature_importances[ix] > FEATURE_SEL_TRESHOLD]\n",
    "print(f\"Feature selezionate ({len(selected_features)} sy {len(feature_importances)}): {selected_features}\")"
   ]
  },
  {
   "cell_type": "code",
   "execution_count": 16,
   "id": "d0e5fd67-7d9d-4a7c-8884-671c701dd10f",
   "metadata": {},
   "outputs": [
    {
     "name": "stderr",
     "output_type": "stream",
     "text": [
      "                                                                                \r"
     ]
    },
    {
     "data": {
      "text/plain": [
       "UnivariateFeatureSelectorModel: uid=UnivariateFeatureSelector_8d5ad814ca52, numSelectedFeatures=26"
      ]
     },
     "execution_count": 16,
     "metadata": {},
     "output_type": "execute_result"
    }
   ],
   "source": [
    "selector = UnivariateFeatureSelector(outputCol=\"SelectedFeatures\", featuresCol=\"Features\", labelCol=\"Class\", selectionMode=\"fpr\")\\\n",
    "    .setSelectionThreshold(.05)\\\n",
    "    .setFeatureType(\"continuous\")\\\n",
    "    .setLabelType(\"categorical\")\n",
    "selector_model = selector.fit(best_model_fit.stages[0].transform(train_df))\n",
    "selector_model"
   ]
  },
  {
   "cell_type": "markdown",
   "id": "bdbe3baa",
   "metadata": {},
   "source": [
    "## Ottimizzazione con cross-validation"
   ]
  },
  {
   "cell_type": "code",
   "execution_count": 17,
   "id": "51c7a821-345e-43a3-9cfd-2af5dd6c03c9",
   "metadata": {},
   "outputs": [],
   "source": [
    "assembler = VectorAssembler(inputCols=FEATURE_COL_NAMES, outputCol=\"Features\")\n",
    "random_forest = RandomForestClassifier(featuresCol=\"SelectedFeatures\", labelCol=\"Class\", weightCol=\"Peso\", seed=42)\n",
    "pipeline = Pipeline().setStages([\n",
    "    assembler,\n",
    "    selector,\n",
    "    random_forest,\n",
    "])"
   ]
  },
  {
   "cell_type": "code",
   "execution_count": 18,
   "id": "a6bc17c2-47fa-4557-bc17-dbef6f7e43c0",
   "metadata": {},
   "outputs": [],
   "source": [
    "paramGrid = ParamGridBuilder().addGrid(random_forest.maxBins,[15, 20, 25])\\\n",
    "                              .addGrid(random_forest.maxDepth,[4,6,8])\\\n",
    "                              .addGrid(random_forest.impurity,[\"entropy\",\"gini\"])\\\n",
    "                              .build()"
   ]
  },
  {
   "cell_type": "code",
   "execution_count": 19,
   "id": "b7c0d3cb-6bd0-471b-922a-da30c8b3cab2",
   "metadata": {},
   "outputs": [],
   "source": [
    "evaluator = BinaryClassificationEvaluator(labelCol=\"Class\", metricName=\"areaUnderPR\")\n",
    "cv = CrossValidator(seed=42).setEstimator(pipeline)\\\n",
    "                     .setEvaluator(evaluator)\\\n",
    "                     .setEstimatorParamMaps(paramGrid)\\\n",
    "                     .setNumFolds(10)"
   ]
  },
  {
   "cell_type": "code",
   "execution_count": 21,
   "id": "6d3a8c0a-bcf3-493c-957c-ad0e0b428af0",
   "metadata": {},
   "outputs": [
    {
     "name": "stderr",
     "output_type": "stream",
     "text": [
      "21/08/30 10:07:48 WARN CacheManager: Asked to cache already cached data.\n",
      "21/08/30 10:07:48 WARN CacheManager: Asked to cache already cached data.\n",
      "                                                                                \r"
     ]
    }
   ],
   "source": [
    "cvModel = cv.fit(train_df)"
   ]
  },
  {
   "cell_type": "code",
   "execution_count": 22,
   "id": "0f3517a8-16bc-44b1-9198-b3695082bb0e",
   "metadata": {},
   "outputs": [
    {
     "data": {
      "text/plain": [
       "RandomForestClassificationModel: uid=RandomForestClassifier_acf14f0b39b1, numTrees=20, numClasses=2, numFeatures=26"
      ]
     },
     "execution_count": 22,
     "metadata": {},
     "output_type": "execute_result"
    }
   ],
   "source": [
    "cvModel.bestModel.stages[-1]"
   ]
  },
  {
   "cell_type": "code",
   "execution_count": 27,
   "id": "e16d7f4e-b20f-4122-999c-162a61913795",
   "metadata": {},
   "outputs": [
    {
     "name": "stdout",
     "output_type": "stream",
     "text": [
      ">>> MODELLO: CROSS-VALIDATED MODEL\n",
      "\n",
      "    Precision/Recall:                   CLASSE\n",
      "                                  |   0    |   1    | \n",
      "                        ----------|--------|--------|\n",
      "                        precision | 94.38% | 99.95% |\n",
      "                        ----------|--------|--------|\n",
      "                        recall    | 99.95% | 93.99% |\n",
      "                        ----------|--------|--------|\n",
      "                        f1-score  | 97.09% | 96.88% |\n",
      "                        -----------------------------\n",
      "\n",
      "    Area Under PR Curve:  99.98%\n",
      "    \n"
     ]
    },
    {
     "data": {
      "text/plain": [
       "Text(0.5, 1.0, 'Curva Precision/Recall')"
      ]
     },
     "execution_count": 27,
     "metadata": {},
     "output_type": "execute_result"
    },
    {
     "data": {
      "image/png": "[encoded data removed]",
      "text/plain": [
       "<Figure size 720x720 with 1 Axes>"
      ]
     },
     "metadata": {},
     "output_type": "display_data"
    }
   ],
   "source": [
    "cv_precision_recall_df = evaluate_model_train(\"cross-validated model\", cvModel.bestModel, train_df, precision_recall_df)\n",
    "\n",
    "\n",
    "fig, ax = plt.subplots(1, 1, figsize=(10, 10))\n",
    "g = sns.lineplot(\n",
    "    data=cv_precision_recall_df,\n",
    "    x=\"precision\", y=\"recall\", hue=\"model\"\n",
    ")\n",
    "plt.title(\"Curva Precision/Recall\")"
   ]
  },
  {
   "cell_type": "code",
   "execution_count": 28,
   "id": "2d58626d-cf70-44fe-bc61-178eb9f33e88",
   "metadata": {},
   "outputs": [
    {
     "data": {
      "image/png": "[encoded data removed]",
      "text/plain": [
       "<Figure size 1296x576 with 1 Axes>"
      ]
     },
     "metadata": {},
     "output_type": "display_data"
    }
   ],
   "source": [
    "feature_importances = cvModel.bestModel.stages[-1].featureImportances.toArray()\n",
    "\n",
    "fig, ax = plt.subplots(1, 1, figsize =(18,8))\n",
    "g = sns.barplot(y=feature_importances, x=list(range(len(feature_importances))), ax=ax)\n",
    "plt.title(\"Importanza delle Feature\")\n",
    "sns.despine()\n",
    "plt.show()"
   ]
  },
  {
   "cell_type": "markdown",
   "id": "a70a4f38-6728-4924-b49a-625d2112fad6",
   "metadata": {},
   "source": [
    "## Valutazione sui dati Test"
   ]
  },
  {
   "cell_type": "code",
   "execution_count": 35,
   "id": "dbf74e89-3458-4895-83f0-2d82479b55dc",
   "metadata": {},
   "outputs": [
    {
     "name": "stdout",
     "output_type": "stream",
     "text": [
      ">>> MODELLO: RANDOM_FOREST\n",
      "    Area Under PR Curve:  81.07%\n",
      "    \n",
      ">>> MODELLO: RANDOM_FOREST_W\n",
      "    Area Under PR Curve:  74.30%\n",
      "    \n",
      ">>> MODELLO: LOGISTIC_REGRESSION\n",
      "    Area Under PR Curve:  73.99%\n",
      "    \n",
      ">>> MODELLO: LOGISTIC_REGRESSION_W\n",
      "    Area Under PR Curve:  74.56%\n",
      "    \n",
      ">>> MODELLO: CROSS-VALIDATED MODEL\n",
      "    Area Under PR Curve:  81.01%\n",
      "    \n"
     ]
    }
   ],
   "source": [
    "for model_name, model in models_test_fit.items():\n",
    "    evaluate_model_test(model_name, model, test_df, evaluator)\n",
    "\n",
    "evaluate_model_test(\"cross-validated model\", cvModel.bestModel, test_df, evaluator)"
   ]
  },
  {
   "cell_type": "markdown",
   "id": "cad7e753-b8a9-4752-ada5-48c51ed04176",
   "metadata": {},
   "source": [
    "La grande differenza tra l'AUPRC sul dataset di training e quello di test, nonchè la diminuzione della stessa a seguito del test, indicano dei principi di overfit per i modelli. Per questa ragione potrebbe essere ragionevole utilizzare dei criteri maggiormente rigorosi nella selezione delle feature (es. Selezione univariata - basata su ANOVA) o l'inserimento di pesi nell'evaluator "
   ]
  }
 ],
 "metadata": {
  "kernelspec": {
   "display_name": "Python 3 (ipykernel)",
   "language": "python",
   "name": "python3"
  },
  "language_info": {
   "codemirror_mode": {
    "name": "ipython",
    "version": 3
   },
   "file_extension": ".py",
   "mimetype": "text/x-python",
   "name": "python",
   "nbconvert_exporter": "python",
   "pygments_lexer": "ipython3",
   "version": "3.9.6"
  }
 },
 "nbformat": 4,
 "nbformat_minor": 5
}
